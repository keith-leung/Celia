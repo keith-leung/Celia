{
  "nbformat": 4,
  "nbformat_minor": 0,
  "metadata": {
    "colab": {
      "name": "Minimax.ipynb",
      "provenance": [],
      "collapsed_sections": [],
      "include_colab_link": true
    },
    "kernelspec": {
      "name": "python3",
      "display_name": "Python 3"
    },
    "language_info": {
      "name": "python"
    }
  },
  "cells": [
    {
      "cell_type": "markdown",
      "metadata": {
        "id": "view-in-github",
        "colab_type": "text"
      },
      "source": [
        "<a href=\"https://colab.research.google.com/github/keith-leung/Celia/blob/master/Minimax.ipynb\" target=\"_parent\"><img src=\"https://colab.research.google.com/assets/colab-badge.svg\" alt=\"Open In Colab\"/></a>"
      ]
    },
    {
      "cell_type": "code",
      "metadata": {
        "colab": {
          "base_uri": "https://localhost:8080/"
        },
        "id": "TtHr_xOA7fa7",
        "outputId": "d1b7cd69-5a8c-44a8-d486-a5f4c366a402"
      },
      "source": [
        "# Minimax to solve tic-tac-toe\n",
        "# state[r,c] is the content at position (r,c) of the board: \"_\", \"X\", or \"O\"\n",
        "# TODO: implement base case (watch out for draws and early wins)\n",
        "# TODO: compare with XKCD solution, do they match? Why or why not?\n",
        "import numpy as np\n",
        "\n",
        "def state_string(state):\n",
        "    return \"\\n\".join([\"\".join(row) for row in state])\n",
        "\n",
        "def score(state):\n",
        "    for player, value in ((\"X\", 1), (\"O\", -1)):\n",
        "        if (state == player).all(axis=0).any(): return value\n",
        "        if (state == player).all(axis=1).any(): return value\n",
        "        if (np.diag(state) == player).all(): return value\n",
        "        if (np.diag(np.rot90(state)) == player).all(): return value\n",
        "    return 0\n",
        "\n",
        "def get_player(state):\n",
        "    return \"XO\"[\n",
        "        np.count_nonzero(state == \"O\") < np.count_nonzero(state == \"X\")]\n",
        "\n",
        "def children_of(state):\n",
        "    symbol = get_player(state)\n",
        "    children = []\n",
        "    for r in range(state.shape[0]):\n",
        "        for c in range(state.shape[1]):\n",
        "            if state[r,c] == \"_\":\n",
        "                child = state.copy()\n",
        "                child[r,c] = symbol\n",
        "                children.append(child)\n",
        "    return list(reversed(children))\n",
        "\n",
        "def minimax(state):\n",
        "    # returns chosen child state, utility\n",
        "    player = get_player(state)\n",
        "    children = children_of(state)\n",
        "\n",
        "    # base case (TODO)\n",
        "    value = score(state)\n",
        "    if len(children) == 0 or value != 0: return None, value\n",
        "\n",
        "    # recursive case\n",
        "    results = list(map(minimax, children))\n",
        "    _, utilities = zip(*results)\n",
        "    if player == \"X\": action = np.argmax(utilities)\n",
        "    if player == \"O\": action = np.argmin(utilities)\n",
        "    return children[action], utilities[action]\n",
        "\n",
        "\n",
        "if __name__ == \"__main__\":\n",
        "\n",
        "    state = np.array([[\"_\"]*3]*3)\n",
        "    state[0,0] = \"X\" # optimal, according to https://xkcd.com/832/\n",
        "    # state[0,1] = \"O\" # suboptimal\n",
        "    \n",
        "    # Each player using minimax each turn to decide the next action and state\n",
        "    while state is not None:\n",
        "      print(state_string(state))\n",
        "      state, u = minimax(state)\n",
        "      print(\"utility:\", u)\n"
      ],
      "execution_count": null,
      "outputs": [
        {
          "output_type": "stream",
          "name": "stdout",
          "text": [
            "X__\n",
            "___\n",
            "___\n",
            "utility: 0\n",
            "X__\n",
            "_O_\n",
            "___\n",
            "utility: 0\n",
            "X__\n",
            "_O_\n",
            "__X\n",
            "utility: 0\n",
            "X__\n",
            "_O_\n",
            "_OX\n",
            "utility: 0\n",
            "XX_\n",
            "_O_\n",
            "_OX\n",
            "utility: 0\n",
            "XXO\n",
            "_O_\n",
            "_OX\n",
            "utility: 0\n",
            "XXO\n",
            "_O_\n",
            "XOX\n",
            "utility: 0\n",
            "XXO\n",
            "OO_\n",
            "XOX\n",
            "utility: 0\n",
            "XXO\n",
            "OOX\n",
            "XOX\n",
            "utility: 0\n"
          ]
        }
      ]
    },
    {
      "cell_type": "code",
      "metadata": {
        "colab": {
          "base_uri": "https://localhost:8080/"
        },
        "id": "Kt3M0rs6SDoH",
        "outputId": "c6c4b093-29f2-4d3f-e6ed-0ba9957c6955"
      },
      "source": [
        "a = np.array([[1,2],[0,1]])\n",
        "print(a)\n",
        "print(a > 0)\n",
        "print((a > 0).all(axis=0).any())\n",
        "print(np.rot90(a))\n",
        "a.shape"
      ],
      "execution_count": null,
      "outputs": [
        {
          "output_type": "stream",
          "name": "stdout",
          "text": [
            "[[1 2]\n",
            " [0 1]]\n",
            "[[ True  True]\n",
            " [False  True]]\n",
            "True\n",
            "[[2 1]\n",
            " [1 0]]\n"
          ]
        },
        {
          "output_type": "execute_result",
          "data": {
            "text/plain": [
              "(2, 2)"
            ]
          },
          "metadata": {},
          "execution_count": 20
        }
      ]
    },
    {
      "cell_type": "code",
      "metadata": {
        "colab": {
          "base_uri": "https://localhost:8080/",
          "height": 297
        },
        "id": "_4Xq1pPf3kNW",
        "outputId": "202dc6d2-9f30-44ec-e485-d06cdf8e6c10"
      },
      "source": [
        "# IDS asymptotic complexity\n",
        "\n",
        "import numpy as np\n",
        "import matplotlib.pyplot as pt\n",
        "\n",
        "pt.figure(figsize=(10,4))\n",
        "for b in range(2,5):\n",
        "    tree = []\n",
        "    leaf = []\n",
        "    fracs = []\n",
        "    for D in range(30):\n",
        "        d = np.arange(D+1)\n",
        "        tree.append( ((D+1 - d) * b**d).sum() )\n",
        "        leaf.append( b**D )\n",
        "        fracs.append( tree[D] / leaf[D] )\n",
        "    \n",
        "    pt.subplot(2,3,b-1)\n",
        "    pt.title(\"b = %d\" % b)\n",
        "    pt.plot(leaf, label=\"Leaves\")\n",
        "    pt.plot(tree, label=\"Goal-checks\")\n",
        "    pt.legend()\n",
        "    pt.subplot(2,3,3+b-1)\n",
        "    pt.plot(np.array(tree) / np.array(leaf), label=\"Goal-checks/Leaves\")\n",
        "    pt.xlabel(\"D\")\n",
        "    pt.legend()\n",
        "\n",
        "pt.tight_layout()\n",
        "pt.show()\n"
      ],
      "execution_count": null,
      "outputs": [
        {
          "output_type": "display_data",
          "data": {
            "image/png": "[encoded data removed]",
            "text/plain": [
              "<Figure size 720x288 with 6 Axes>"
            ]
          },
          "metadata": {
            "needs_background": "light"
          }
        }
      ]
    },
    {
      "cell_type": "code",
      "metadata": {
        "colab": {
          "base_uri": "https://localhost:8080/",
          "height": 658
        },
        "id": "LRHWGZJ9O6c1",
        "outputId": "e76b85a1-8771-4c1b-fd6d-9f883a39c75a"
      },
      "source": [
        "# TODO:\n",
        "# Add base case to evaluate a state at maximum depth\n",
        "# Try deeper max depths\n",
        "\n",
        "def depth_limited_minimax(state, max_depth, evaluate):\n",
        "    # returns chosen child state, utility\n",
        "    player = get_player(state)\n",
        "    children = children_of(state)\n",
        "    value = score(state)\n",
        "\n",
        "    # base cases\n",
        "    if len(children) == 0 or value != 0: return None, value\n",
        "    if max_depth == 0: return None, evaluate(state) # TODO\n",
        "\n",
        "    # recursive case\n",
        "    results = [\n",
        "        depth_limited_minimax(child, max_depth-1, evaluate)\n",
        "        for child in children]\n",
        "\n",
        "    _, utilities = zip(*results)\n",
        "    if player == \"X\": action = np.argmax(utilities)\n",
        "    if player == \"O\": action = np.argmin(utilities)\n",
        "    return children[action], utilities[action]\n",
        "\n",
        "def simple_evaluate(state):\n",
        "    # count how many ways it is still possible to win or lose\n",
        "    count = 0\n",
        "    for player, value in ((\"X\", 1), (\"O\", -1)):\n",
        "        count += ((state == player) | (state == \"_\")).all(axis=0).sum() * value\n",
        "        count += ((state == player) | (state == \"_\")).all(axis=1).sum() * value\n",
        "        count += ((np.diag(state) == player) | (np.diag(state) == \"_\")).all() * value\n",
        "        count += ((np.diag(np.rot90(state)) == player) | (np.diag(np.rot90(state)) == \"_\")).all() * value\n",
        "    return count\n",
        "\n",
        "if __name__ == \"__main__\":\n",
        "\n",
        "    state = np.array([[\"_\"]*3]*3)\n",
        "    #state[0,0] = \"X\" # optimal, according to https://xkcd.com/832/\n",
        "\n",
        "    max_depth = 9 # TODO\n",
        "    \n",
        "    # Each player using minimax each turn to decide the next action and state\n",
        "    while True:\n",
        "      if len(children_of(state)) == 0 or score(state) != 0: break\n",
        "\n",
        "      print(state_string(state))\n",
        "\n",
        "      if get_player(state) == \"O\":\n",
        "        while True:\n",
        "          row = int(input(\"Enter row: \"))\n",
        "          col = int(input(\"Enter col: \"))\n",
        "          if state[row,col] == \"_\":\n",
        "            state[row,col] = \"O\"\n",
        "            break\n",
        "          print(\"Invalid choice.\")\n",
        "      else:\n",
        "        state, u = depth_limited_minimax(state, max_depth, simple_evaluate)\n",
        "        print(\"evaluation:\", u)\n",
        "    \n",
        "    print(state_string(state))\n",
        "    print(\"Final score: \", score(state))\n",
        "    input(\"\")"
      ],
      "execution_count": null,
      "outputs": [
        {
          "output_type": "stream",
          "name": "stdout",
          "text": [
            "___\n",
            "___\n",
            "___\n",
            "evaluation: 0\n",
            "___\n",
            "___\n",
            "__X\n"
          ]
        },
        {
          "output_type": "error",
          "ename": "KeyboardInterrupt",
          "evalue": "ignored",
          "traceback": [
            "\u001b[0;31m---------------------------------------------------------------------------\u001b[0m",
            "\u001b[0;31mKeyboardInterrupt\u001b[0m                         Traceback (most recent call last)",
            "\u001b[0;32m/usr/local/lib/python3.7/dist-packages/ipykernel/kernelbase.py\u001b[0m in \u001b[0;36m_input_request\u001b[0;34m(self, prompt, ident, parent, password)\u001b[0m\n\u001b[1;32m    728\u001b[0m             \u001b[0;32mtry\u001b[0m\u001b[0;34m:\u001b[0m\u001b[0;34m\u001b[0m\u001b[0;34m\u001b[0m\u001b[0m\n\u001b[0;32m--> 729\u001b[0;31m                 \u001b[0mident\u001b[0m\u001b[0;34m,\u001b[0m \u001b[0mreply\u001b[0m \u001b[0;34m=\u001b[0m \u001b[0mself\u001b[0m\u001b[0;34m.\u001b[0m\u001b[0msession\u001b[0m\u001b[0;34m.\u001b[0m\u001b[0mrecv\u001b[0m\u001b[0;34m(\u001b[0m\u001b[0mself\u001b[0m\u001b[0;34m.\u001b[0m\u001b[0mstdin_socket\u001b[0m\u001b[0;34m,\u001b[0m \u001b[0;36m0\u001b[0m\u001b[0;34m)\u001b[0m\u001b[0;34m\u001b[0m\u001b[0;34m\u001b[0m\u001b[0m\n\u001b[0m\u001b[1;32m    730\u001b[0m             \u001b[0;32mexcept\u001b[0m \u001b[0mException\u001b[0m\u001b[0;34m:\u001b[0m\u001b[0;34m\u001b[0m\u001b[0;34m\u001b[0m\u001b[0m\n",
            "\u001b[0;32m/usr/local/lib/python3.7/dist-packages/jupyter_client/session.py\u001b[0m in \u001b[0;36mrecv\u001b[0;34m(self, socket, mode, content, copy)\u001b[0m\n\u001b[1;32m    802\u001b[0m         \u001b[0;32mtry\u001b[0m\u001b[0;34m:\u001b[0m\u001b[0;34m\u001b[0m\u001b[0;34m\u001b[0m\u001b[0m\n\u001b[0;32m--> 803\u001b[0;31m             \u001b[0mmsg_list\u001b[0m \u001b[0;34m=\u001b[0m \u001b[0msocket\u001b[0m\u001b[0;34m.\u001b[0m\u001b[0mrecv_multipart\u001b[0m\u001b[0;34m(\u001b[0m\u001b[0mmode\u001b[0m\u001b[0;34m,\u001b[0m \u001b[0mcopy\u001b[0m\u001b[0;34m=\u001b[0m\u001b[0mcopy\u001b[0m\u001b[0;34m)\u001b[0m\u001b[0;34m\u001b[0m\u001b[0;34m\u001b[0m\u001b[0m\n\u001b[0m\u001b[1;32m    804\u001b[0m         \u001b[0;32mexcept\u001b[0m \u001b[0mzmq\u001b[0m\u001b[0;34m.\u001b[0m\u001b[0mZMQError\u001b[0m \u001b[0;32mas\u001b[0m \u001b[0me\u001b[0m\u001b[0;34m:\u001b[0m\u001b[0;34m\u001b[0m\u001b[0;34m\u001b[0m\u001b[0m\n",
            "\u001b[0;32m/usr/local/lib/python3.7/dist-packages/zmq/sugar/socket.py\u001b[0m in \u001b[0;36mrecv_multipart\u001b[0;34m(self, flags, copy, track)\u001b[0m\n\u001b[1;32m    624\u001b[0m         \"\"\"\n\u001b[0;32m--> 625\u001b[0;31m         \u001b[0mparts\u001b[0m \u001b[0;34m=\u001b[0m \u001b[0;34m[\u001b[0m\u001b[0mself\u001b[0m\u001b[0;34m.\u001b[0m\u001b[0mrecv\u001b[0m\u001b[0;34m(\u001b[0m\u001b[0mflags\u001b[0m\u001b[0;34m,\u001b[0m \u001b[0mcopy\u001b[0m\u001b[0;34m=\u001b[0m\u001b[0mcopy\u001b[0m\u001b[0;34m,\u001b[0m \u001b[0mtrack\u001b[0m\u001b[0;34m=\u001b[0m\u001b[0mtrack\u001b[0m\u001b[0;34m)\u001b[0m\u001b[0;34m]\u001b[0m\u001b[0;34m\u001b[0m\u001b[0;34m\u001b[0m\u001b[0m\n\u001b[0m\u001b[1;32m    626\u001b[0m         \u001b[0;31m# have first part already, only loop while more to receive\u001b[0m\u001b[0;34m\u001b[0m\u001b[0;34m\u001b[0m\u001b[0;34m\u001b[0m\u001b[0m\n",
            "\u001b[0;32mzmq/backend/cython/socket.pyx\u001b[0m in \u001b[0;36mzmq.backend.cython.socket.Socket.recv\u001b[0;34m()\u001b[0m\n",
            "\u001b[0;32mzmq/backend/cython/socket.pyx\u001b[0m in \u001b[0;36mzmq.backend.cython.socket.Socket.recv\u001b[0;34m()\u001b[0m\n",
            "\u001b[0;32mzmq/backend/cython/socket.pyx\u001b[0m in \u001b[0;36mzmq.backend.cython.socket._recv_copy\u001b[0;34m()\u001b[0m\n",
            "\u001b[0;32m/usr/local/lib/python3.7/dist-packages/zmq/backend/cython/checkrc.pxd\u001b[0m in \u001b[0;36mzmq.backend.cython.checkrc._check_rc\u001b[0;34m()\u001b[0m\n",
            "\u001b[0;31mKeyboardInterrupt\u001b[0m: ",
            "\nDuring handling of the above exception, another exception occurred:\n",
            "\u001b[0;31mKeyboardInterrupt\u001b[0m                         Traceback (most recent call last)",
            "\u001b[0;32m<ipython-input-26-6776c384499b>\u001b[0m in \u001b[0;36m<module>\u001b[0;34m()\u001b[0m\n\u001b[1;32m     48\u001b[0m       \u001b[0;32mif\u001b[0m \u001b[0mget_player\u001b[0m\u001b[0;34m(\u001b[0m\u001b[0mstate\u001b[0m\u001b[0;34m)\u001b[0m \u001b[0;34m==\u001b[0m \u001b[0;34m\"O\"\u001b[0m\u001b[0;34m:\u001b[0m\u001b[0;34m\u001b[0m\u001b[0;34m\u001b[0m\u001b[0m\n\u001b[1;32m     49\u001b[0m         \u001b[0;32mwhile\u001b[0m \u001b[0;32mTrue\u001b[0m\u001b[0;34m:\u001b[0m\u001b[0;34m\u001b[0m\u001b[0;34m\u001b[0m\u001b[0m\n\u001b[0;32m---> 50\u001b[0;31m           \u001b[0mrow\u001b[0m \u001b[0;34m=\u001b[0m \u001b[0mint\u001b[0m\u001b[0;34m(\u001b[0m\u001b[0minput\u001b[0m\u001b[0;34m(\u001b[0m\u001b[0;34m\"Enter row: \"\u001b[0m\u001b[0;34m)\u001b[0m\u001b[0;34m)\u001b[0m\u001b[0;34m\u001b[0m\u001b[0;34m\u001b[0m\u001b[0m\n\u001b[0m\u001b[1;32m     51\u001b[0m           \u001b[0mcol\u001b[0m \u001b[0;34m=\u001b[0m \u001b[0mint\u001b[0m\u001b[0;34m(\u001b[0m\u001b[0minput\u001b[0m\u001b[0;34m(\u001b[0m\u001b[0;34m\"Enter col: \"\u001b[0m\u001b[0;34m)\u001b[0m\u001b[0;34m)\u001b[0m\u001b[0;34m\u001b[0m\u001b[0;34m\u001b[0m\u001b[0m\n\u001b[1;32m     52\u001b[0m           \u001b[0;32mif\u001b[0m \u001b[0mstate\u001b[0m\u001b[0;34m[\u001b[0m\u001b[0mrow\u001b[0m\u001b[0;34m,\u001b[0m\u001b[0mcol\u001b[0m\u001b[0;34m]\u001b[0m \u001b[0;34m==\u001b[0m \u001b[0;34m\"_\"\u001b[0m\u001b[0;34m:\u001b[0m\u001b[0;34m\u001b[0m\u001b[0;34m\u001b[0m\u001b[0m\n",
            "\u001b[0;32m/usr/local/lib/python3.7/dist-packages/ipykernel/kernelbase.py\u001b[0m in \u001b[0;36mraw_input\u001b[0;34m(self, prompt)\u001b[0m\n\u001b[1;32m    702\u001b[0m             \u001b[0mself\u001b[0m\u001b[0;34m.\u001b[0m\u001b[0m_parent_ident\u001b[0m\u001b[0;34m,\u001b[0m\u001b[0;34m\u001b[0m\u001b[0;34m\u001b[0m\u001b[0m\n\u001b[1;32m    703\u001b[0m             \u001b[0mself\u001b[0m\u001b[0;34m.\u001b[0m\u001b[0m_parent_header\u001b[0m\u001b[0;34m,\u001b[0m\u001b[0;34m\u001b[0m\u001b[0;34m\u001b[0m\u001b[0m\n\u001b[0;32m--> 704\u001b[0;31m             \u001b[0mpassword\u001b[0m\u001b[0;34m=\u001b[0m\u001b[0;32mFalse\u001b[0m\u001b[0;34m,\u001b[0m\u001b[0;34m\u001b[0m\u001b[0;34m\u001b[0m\u001b[0m\n\u001b[0m\u001b[1;32m    705\u001b[0m         )\n\u001b[1;32m    706\u001b[0m \u001b[0;34m\u001b[0m\u001b[0m\n",
            "\u001b[0;32m/usr/local/lib/python3.7/dist-packages/ipykernel/kernelbase.py\u001b[0m in \u001b[0;36m_input_request\u001b[0;34m(self, prompt, ident, parent, password)\u001b[0m\n\u001b[1;32m    732\u001b[0m             \u001b[0;32mexcept\u001b[0m \u001b[0mKeyboardInterrupt\u001b[0m\u001b[0;34m:\u001b[0m\u001b[0;34m\u001b[0m\u001b[0;34m\u001b[0m\u001b[0m\n\u001b[1;32m    733\u001b[0m                 \u001b[0;31m# re-raise KeyboardInterrupt, to truncate traceback\u001b[0m\u001b[0;34m\u001b[0m\u001b[0;34m\u001b[0m\u001b[0;34m\u001b[0m\u001b[0m\n\u001b[0;32m--> 734\u001b[0;31m                 \u001b[0;32mraise\u001b[0m \u001b[0mKeyboardInterrupt\u001b[0m\u001b[0;34m\u001b[0m\u001b[0;34m\u001b[0m\u001b[0m\n\u001b[0m\u001b[1;32m    735\u001b[0m             \u001b[0;32melse\u001b[0m\u001b[0;34m:\u001b[0m\u001b[0;34m\u001b[0m\u001b[0;34m\u001b[0m\u001b[0m\n\u001b[1;32m    736\u001b[0m                 \u001b[0;32mbreak\u001b[0m\u001b[0;34m\u001b[0m\u001b[0;34m\u001b[0m\u001b[0m\n",
            "\u001b[0;31mKeyboardInterrupt\u001b[0m: "
          ]
        }
      ]
    }
  ]
}