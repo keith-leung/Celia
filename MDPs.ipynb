{
  "nbformat": 4,
  "nbformat_minor": 0,
  "metadata": {
    "colab": {
      "name": "MDPs.ipynb",
      "provenance": [],
      "collapsed_sections": [],
      "include_colab_link": true
    },
    "kernelspec": {
      "name": "python3",
      "display_name": "Python 3"
    },
    "language_info": {
      "name": "python"
    }
  },
  "cells": [
    {
      "cell_type": "markdown",
      "metadata": {
        "id": "view-in-github",
        "colab_type": "text"
      },
      "source": [
        "<a href=\"https://colab.research.google.com/github/keith-leung/Celia/blob/master/MDPs.ipynb\" target=\"_parent\"><img src=\"https://colab.research.google.com/assets/colab-badge.svg\" alt=\"Open In Colab\"/></a>"
      ]
    },
    {
      "cell_type": "code",
      "metadata": {
        "id": "1kiA_qA7_e2V"
      },
      "source": [
        "# TODOs:\n",
        "\n",
        "# MDPs:\n",
        "# Visualize index_to_state mapping\n",
        "# Debug probability table construction\n",
        "\n",
        "# TRL:\n",
        "# Improve α formula to get better u estimate\n",
        "# Change explore/exploit decision to get better u estimate\n",
        "# Enlarge the grid size"
      ],
      "execution_count": null,
      "outputs": []
    },
    {
      "cell_type": "code",
      "metadata": {
        "id": "j4if-N5ir8b_"
      },
      "source": [
        "\"\"\"\n",
        "Policy iteration algorithm\n",
        "This algorithm finds an optimal policy when the rewards, discount factor, and transition probabilities are all known\n",
        "It starts with an initial guess and iteratively updates its policy until it is optimal\n",
        "On each iteration, it evaluates its current policy and then improves itk\n",
        "\"\"\"\n",
        "\n",
        "import numpy as np # used for handling arrays\n",
        "import itertools as it # used for fancy iteration methods\n",
        "\n",
        "# r[i]: reward at the ith state\n",
        "# ɣ: discount factor in the interval (0, 1)\n",
        "# P[k,i,j]: Transition probability Pr{S(t+1) = s_j | S(t) = s_i, A(t) = a_k}\n",
        "# num_iters: maximum number of iterations to perform (None goes to convergence)\n",
        "# verbose: if True, print status updates during iteration\n",
        "def policy_iteration(r, ɣ, P, num_iters=None, verbose=False):\n",
        "\n",
        "    N = len(r) # Total number of states\n",
        "    π = np.zeros(N).astype(int) # Initial policy: a_0 in every state\n",
        "\n",
        "    for n in it.count(): # Iterates n = 0, 1, 2, ... forever\n",
        "        if n == num_iters: break # But break early if num_iters reached\n",
        "\n",
        "        ### Policy evaluation step\n",
        "\n",
        "        # Form transition probability matrix given current policy:\n",
        "        # P_π[i,j] = Pr{S(t+1) = s_j | S(t) = s_i, A(t) = π(s_i)}\n",
        "        P_π = np.array([P[π[i], i, :] for i in range(N)])\n",
        "\n",
        "        # Solve Bellman's equation to get the utility of each state, given π\n",
        "        # u[i]: utility of state s_i\n",
        "        # Bellman's equation:   u = r + ɣ*P_π.dot(u)\n",
        "        # Solving for u:        u = inv(I - ɣ*P_π).dot(r)\n",
        "        u = np.linalg.solve(np.eye(N) - ɣ*P_π, r)\n",
        "\n",
        "        # Print status update\n",
        "        if verbose: print(\"iter %d π=%s, u= %s\"%(n,π,u))\n",
        "\n",
        "        ### Policy improvement step\n",
        "        \n",
        "        # Using current utility u for policy π,\n",
        "        # choose the action which maximizes expected utility to get a new policy π_new\n",
        "        # This is called \"one-step lookahead\"\n",
        "        π_new = (P*u.reshape(1,1,N)).sum(axis=2).argmax(axis=0)\n",
        "\n",
        "        # If the policy hasn't changed, policy iteration is complete\n",
        "        if (π == π_new).all(): return π, u\n",
        "        \n",
        "        # Otherwise, replace the old policy with the new one and repeat\n",
        "        π = π_new\n"
      ],
      "execution_count": null,
      "outputs": []
    },
    {
      "cell_type": "code",
      "metadata": {
        "id": "Hyb3cRWKzD2V"
      },
      "source": [
        "# Domain API\n",
        "# state (mx, my, cx, cy) are xy positions of mouse and cat\n",
        "# Each can move one unit vertically, horizontally, or diagonally\n",
        "# The cat moves uniformly at random, the mouse is the agent\n",
        "# Reward is maximized by staying far from the cat\n",
        "\n",
        "# The mouse and cat live in a discrete rectangular grid\n",
        "# If they try to move outside the grid, they stay where they are\n",
        "#grid_rows, grid_cols = 4, 4\n",
        "grid_rows, grid_cols = 25, 25 # TODO: try larger grid size\n",
        "num_states = (grid_rows*grid_cols)**2 # Total number of possible states\n",
        "\n",
        "# The mouse agent has 9 actions: one unit in each direction, or staying in place\n",
        "# dmx and dmy represent changes to position mx and my\n",
        "actions = []\n",
        "for dmx in [-1,0,1]:\n",
        "    for dmy in [-1,0,1]:\n",
        "        actions.append((dmx, dmy))\n",
        "\n",
        "# Mathematical notation\n",
        "N, K = num_states, len(actions)\n",
        "\n",
        "### State-index mapping\n",
        "# To use the MDP formalism, each state must be assigned a unique index\n",
        "# This determines how to fill out the reward, probability, and utility arrays\n",
        "# For this domain, we can treat mouse and cat coordinates as digits\n",
        "# The base of the digits depends on the grid size\n",
        "# For example, in a 10x10 grid, the coordinates are digits in a base-10 number:\n",
        "# state mx, my, cx, cy = 0, 0, 0, 0 <-> index 0000\n",
        "# state mx, my, cx, cy = 1, 0, 0, 0 <-> index 1000\n",
        "\n",
        "def state_to_index(state):\n",
        "    \"\"\"\n",
        "    This assigns each state a unique index\n",
        "    Works essentially like algorithms that convert binary strings to ints,\n",
        "    except that a non-square grid doesn't have a uniform base for every digit\n",
        "    The coef variable is analogous to the powers of the base\n",
        "    The elements of the state tuple are analogous to the digits\n",
        "    \"\"\"\n",
        "    factors = [grid_cols, grid_rows, grid_cols, grid_rows]\n",
        "    idx = 0\n",
        "    coef = 1\n",
        "    for i in range(4):\n",
        "        digit = state[i]\n",
        "        idx += digit*coef\n",
        "        coef *= factors[i]\n",
        "    return int(idx)\n",
        "\n",
        "def index_to_state(idx):\n",
        "    \"\"\"\n",
        "    This method is the inverse of \"state_to_index\":\n",
        "    Given an integer index, it reconstructs the corresponding state.\n",
        "    Works essentially like algorithms that convert ints to binary strings \n",
        "    \"\"\"\n",
        "    factors = [grid_cols, grid_rows, grid_cols, grid_rows]\n",
        "    state = []\n",
        "    for i in range(4):\n",
        "        digit = idx % factors[i]\n",
        "        idx = (idx - digit) / factors[i]\n",
        "        state.append(digit)\n",
        "    return tuple(state)\n",
        "\n",
        "### Reward function\n",
        "# Uses the distance from the cat as a reward\n",
        "# This will make the mouse stay as far as possible from the cat\n",
        "# Since diagonal motions are allowed, this uses the Chebyshev (chessboard) distance:\n",
        "# https://en.wikipedia.org/wiki/Chebyshev_distance \n",
        "def reward(state):\n",
        "    mx, my, cx, cy = state\n",
        "    return max(np.fabs(mx-cx), np.fabs(my-cy))\n",
        "\n",
        "### Reward array\n",
        "r = np.array([reward(index_to_state(i)) for i in range(N)])\n",
        "\n",
        "### Discount factor\n",
        "ɣ = 0.5 # numbers closer to 1 put more emphasis on future rewards\n",
        "\n",
        "### Utility place_holder\n",
        "# In case grid is too large to get u from policy iteration\n",
        "u_opt = np.zeros(N)\n",
        "\n",
        "def plot_state(state):\n",
        "    \"\"\"\n",
        "    state = (mx, my, cx, cy)\n",
        "    Visualize a state with matplotlib:\n",
        "        Blue circle is mouse\n",
        "        Red circle is cat\n",
        "    \"\"\"\n",
        "    mx, my, cx, cy = state\n",
        "    pt.grid()\n",
        "    pt.scatter(cx, cy, s=600, c='r')\n",
        "    pt.scatter(mx, my, s=200, c='b')\n",
        "    pt.xlim([-1, grid_cols])\n",
        "    pt.ylim([-1, grid_rows])\n",
        "\n",
        "### Performing actions\n",
        "# Change the mouse coordinates by mdx and mdy\n",
        "# Likewise for the cat\n",
        "# Cat arguments default to None, in which case the cat motion is randomized\n",
        "def move(state, mdx, mdy, cdx=None, cdy=None):\n",
        "\n",
        "    # Randomize cat motions if not provided\n",
        "    if cdx is None:\n",
        "        cdx, cdy = np.random.choice([-1,0,1],size=2)\n",
        "\n",
        "    # Unpack mouse and cat coordinates in the current state\n",
        "    mx, my, cx, cy = state\n",
        " \n",
        "    # animals stay at the same place if they try to move past the grid bounds\n",
        "    mx = min(max(0, mx+mdx), grid_cols-1)\n",
        "    my = min(max(0, my+mdy), grid_rows-1)\n",
        "    cx = min(max(0, cx+cdx), grid_cols-1)\n",
        "    cy = min(max(0, cy+cdy), grid_rows-1)\n",
        "\n",
        "    return (mx, my, cx, cy)\n"
      ],
      "execution_count": null,
      "outputs": []
    },
    {
      "cell_type": "code",
      "metadata": {
        "colab": {
          "base_uri": "https://localhost:8080/",
          "height": 269
        },
        "id": "oZecA5Ht0Hjn",
        "outputId": "93d8e339-7df2-425e-b75b-43a387ef48b3"
      },
      "source": [
        "# plot some states\n",
        "# TODO: what will state 100 look like? how about others?\n",
        "import matplotlib.pyplot as pt\n",
        "\n",
        "pt.subplot(1,2,1)\n",
        "plot_state(index_to_state(0))\n",
        "pt.subplot(1,2,2)\n",
        "plot_state(index_to_state(900))"
      ],
      "execution_count": null,
      "outputs": [
        {
          "output_type": "display_data",
          "data": {
            "image/png": "[encoded data removed]",
            "text/plain": [
              "<Figure size 432x288 with 2 Axes>"
            ]
          },
          "metadata": {
            "needs_background": "light"
          }
        }
      ]
    },
    {
      "cell_type": "code",
      "metadata": {
        "id": "CETg-ZOO6h2q"
      },
      "source": [
        "# TODO: debug the probability assignment\n",
        "\n",
        "### Building the transition probability tables (P) for this domain:\n",
        "# P is a 3d array with shape (K, N, N)\n",
        "# N is the number of states and K is the number of actions (9 in this case)\n",
        "# The elements are: P[k,i,j] = Pr(S(t+1) = s_j | S(t) = s_i, A(t)=a_k)\n",
        "\n",
        "# For this domain, the cat chooses actions uniformly at random\n",
        "# This means it tries to move in each of the 9 directions with equal probability 1/9\n",
        "# If the cat tries to move off the grid, it stays in place\n",
        "# This means that some state transitions occur with higher probability than 1/9\n",
        " \n",
        "def build():\n",
        "    # Allocate arrays for the probability tables\n",
        "    P = np.zeros((len(actions), num_states, num_states))\n",
        "\n",
        "    # Loop over each possible state index\n",
        "    for i in range(num_states):\n",
        "\n",
        "        # Convert current index to state and save reward\n",
        "        state = index_to_state(i)\n",
        "\n",
        "        # Loop over each possible mouse action\n",
        "        for a, (dmx, dmy) in enumerate(actions):\n",
        "\n",
        "            # Loop over each possible cat action\n",
        "            # Each cat actions is random and equally likely\n",
        "            for dcx in [-1,0,1]:\n",
        "                for dcy in [-1,0,1]:\n",
        "\n",
        "                    # Calculate the new state resulting from mouse/cat motions\n",
        "                    new_state = move(state, dmx, dmy, dcx, dcy)\n",
        "                    \n",
        "                    # Calculate its index in the probability table\n",
        "                    j = state_to_index(new_state)\n",
        "\n",
        "                    # Update the current entry in the probability table\n",
        "                    P[a,i,j] += 1./9. # TODO: what's wrong??????\n",
        "\n",
        "    # Return the completed probability table and reward vector\n",
        "    return P\n",
        "\n",
        "### Sanity check that relevant probabilities sum to one\n",
        "P = build()\n",
        "\n",
        "# For every action performed in every state:\n",
        "for a in range(len(actions)):\n",
        "    for i in range(num_states):\n",
        "        \n",
        "        # The probabilities of all possible new states should sum to 1\n",
        "        # Due to small numerical round-off errors, just check within 0.001 of 1\n",
        "        assert(np.fabs(P[a,i,:].sum() - 1.) < .001) # TODO: uncomment\n"
      ],
      "execution_count": null,
      "outputs": []
    },
    {
      "cell_type": "code",
      "metadata": {
        "colab": {
          "base_uri": "https://localhost:8080/",
          "height": 269
        },
        "id": "Fdn0qyOF76E7",
        "outputId": "76df5859-6dc1-4879-b715-8f7ea905c6d9"
      },
      "source": [
        "# run policy iteration to find the optimal policy\n",
        "π, u_opt = policy_iteration(r,ɣ,P) # returns the optimal policy and utilities\n",
        "\n",
        "# show optimal action in one state\n",
        "state = (0, 2, 0, 0) # mouse at (0,2), cat at (0,0)\n",
        "i = state_to_index(state) # corresponding state index\n",
        "k = π[i] # policy provides the index of the optimal action in each state\n",
        "mdx, mdy = actions[k] # get optimal direction for mouse to move\n",
        "new_state = move(state, mdx, mdy, cdx=0, cdy=0) # new state (if cat stays put)\n",
        "\n",
        "# Plot old and new state before/after the optimal action as a sanity check\n",
        "pt.subplot(1,2,1)\n",
        "plot_state(state)\n",
        "pt.subplot(1,2,2)\n",
        "plot_state(new_state)"
      ],
      "execution_count": null,
      "outputs": [
        {
          "output_type": "display_data",
          "data": {
            "image/png": "[encoded data removed]",
            "text/plain": [
              "<Figure size 432x288 with 2 Axes>"
            ]
          },
          "metadata": {
            "needs_background": "light"
          }
        }
      ]
    },
    {
      "cell_type": "code",
      "metadata": {
        "colab": {
          "base_uri": "https://localhost:8080/",
          "height": 227
        },
        "id": "dWyZRM4Hr-v0",
        "outputId": "52ae5a66-1330-499d-c25d-a6bab94435c4"
      },
      "source": [
        "# Now run the scenario for many time-steps and watch the mouse's behavior\n",
        "\n",
        "# Run animated simulation\n",
        "from IPython import display # used for animation\n",
        "\n",
        "# Arbitrary initial state\n",
        "state = (0, 0, 3, 0)\n",
        "\n",
        "# Loop for 200 time-steps\n",
        "fig = pt.figure(figsize=(3,3)) # each time-step is rendered on this figure\n",
        "for t in range(200):\n",
        "\n",
        "    pt.cla() # Clear the figure before redrawing the current state\n",
        "    plot_state(state) # Draw the current state\n",
        "    pt.title(\"Timestep %d\" % t)\n",
        "\n",
        "    # Boiler-plate code for the animation\n",
        "    display.display(fig) # Display the current figure content\n",
        "    display.clear_output(wait=True) # don't clear it until new content is ready\n",
        "\n",
        "    # Move the mouse, either randomly or optimally\n",
        "    #mdx, mdy = np.random.choice([-1,1],size=2) # random move\n",
        "    mdx, mdy = actions[π[state_to_index(state)]] # optimal policy move\n",
        "\n",
        "    # Update the state after the motion for the next time-step\n",
        "    state = move(state, mdx, mdy)\n"
      ],
      "execution_count": null,
      "outputs": [
        {
          "output_type": "display_data",
          "data": {
            "image/png": "[encoded data removed]",
            "text/plain": [
              "<Figure size 216x216 with 1 Axes>"
            ]
          },
          "metadata": {
            "needs_background": "light"
          }
        }
      ]
    },
    {
      "cell_type": "code",
      "metadata": {
        "colab": {
          "base_uri": "https://localhost:8080/"
        },
        "id": "9jv_sU-cqsHf",
        "outputId": "289a41f1-7da0-4e2d-f2e0-072fbb2541e0"
      },
      "source": [
        "# Definition of optimal Q-values, given P tables and optimal utilities\n",
        "Q_opt = (r + ɣ * (P * u_opt.reshape(1,1,N)).sum(axis=2)).T\n",
        "print(Q_opt.shape)\n",
        "print(Q_opt)"
      ],
      "execution_count": null,
      "outputs": [
        {
          "output_type": "stream",
          "name": "stdout",
          "text": [
            "(256, 9)\n",
            "[[1.09374683 1.09374683 1.40471331 ... 1.40471331 1.40471331 1.55649118]\n",
            " [2.09374683 2.09374683 2.40471331 ... 3.07234838 3.07234838 3.12270256]\n",
            " [3.40471331 3.40471331 3.55649118 ... 4.57234838 4.57234838 4.62270256]\n",
            " ...\n",
            " [4.62270256 4.57234838 4.57234838 ... 3.55649118 3.40471331 3.40471331]\n",
            " [3.12270256 3.07234838 3.07234838 ... 2.40471331 2.09374683 2.09374683]\n",
            " [1.55649118 1.40471331 1.40471331 ... 1.40471331 1.09374683 1.09374683]]\n"
          ]
        }
      ]
    },
    {
      "cell_type": "code",
      "metadata": {
        "colab": {
          "base_uri": "https://localhost:8080/",
          "height": 241
        },
        "id": "j66X8DsSreIC",
        "outputId": "bea5b158-8c92-414f-bf6d-e497c8c910b8"
      },
      "source": [
        "\"\"\"\n",
        "Using TD Q learning when probabilities and optimal utilities are not accessible\n",
        "\"\"\"\n",
        "\n",
        "# Initial Q estimates and counts\n",
        "Q = np.zeros((N, K)) # Repeatedly updated during TD learning\n",
        "visit_counts = np.zeros(N) # Tracks how many times each state was visited\n",
        "choice_counts = np.zeros((N, K)) # How many times each action was done in each state\n",
        "\n",
        "# Reward curve: tracks actual rewards received during learning (should improve)\n",
        "reward_curve = []\n",
        "display_period = 30000 # number of time-steps between visualizations\n",
        "display_window = 10 # how long to animate the animals each visualization\n",
        "num_buckets = 20 # how many buckets to use for averaging reward in the visualization\n",
        "\n",
        "# Utility error curve: tracks how close estimate is to convergence\n",
        "utility_error = []\n",
        "\n",
        "# Arbitrary initial state when learning begins\n",
        "state = (0, 0, 3, 0)\n",
        "\n",
        "# Total number of time-steps for learning\n",
        "num_timesteps = 10**6\n",
        "fig, axs = pt.subplots(1, 5, figsize=(16,3)) # subplots for visualization\n",
        "for t in range(num_timesteps):\n",
        "\n",
        "    # Get current state index and update visit count\n",
        "    i = state_to_index(state)\n",
        "    visit_counts[i] += 1\n",
        "\n",
        "    # Update the reward curve with the current reward\n",
        "    reward_curve.append(r[i])\n",
        "\n",
        "    # Decide whether to explore or exploit\n",
        "    # Probability of exploring inversely proportional to visit count\n",
        "    # 1**-1 = 1\n",
        "    # 100**-1 = .01\n",
        "    explore = (np.random.rand() < visit_counts[i]**(-1))\n",
        "    #explore = True\n",
        "\n",
        "    # TODO: different explore strategy for better u* estimate?\n",
        "\n",
        "    # Choose an action\n",
        "    # Uniformly at random if exploring\n",
        "    # Best current Q estimate if exploiting\n",
        "    k = np.random.randint(K) if explore else Q[i,:].argmax()\n",
        "\n",
        "    # Update the action count and perform the chosen action\n",
        "    choice_counts[i, k] += 1\n",
        "    mdx, mdy = actions[k]\n",
        "    state = move(state, mdx, mdy)\n",
        "\n",
        "    # TD update rule\n",
        "    # α is the state-dependent learning rate, should get smaller over time\n",
        "    # j is the new state index after the current action is performed\n",
        "    α = 1./choice_counts[i,k] # TODO: different α formula for better rewards?\n",
        "    j = state_to_index(state)\n",
        "    Q[i,k] = (1-α) * Q[i,k] + α * (r[i] + ɣ * Q[j,:].max())\n",
        "\n",
        "    # Visualize progress\n",
        "    if False or (t % display_period < display_window):\n",
        "\n",
        "        # Render the current state\n",
        "        pt.sca(axs[0])\n",
        "        pt.cla()\n",
        "        plot_state(state)\n",
        "        pt.title(\"Time-step %d\" % t)\n",
        "        \n",
        "        # Plot the reward curve\n",
        "        pt.sca(axs[1])\n",
        "        pt.cla()\n",
        "        pt.plot(reward_curve)\n",
        "        # For a smoother plot, average the reward curve in buckets\n",
        "        if t > num_buckets:\n",
        "            trim = int(t / num_buckets) * num_buckets\n",
        "            reward_buckets = np.array(reward_curve[:trim]).reshape(num_buckets,-1).mean(axis=1)\n",
        "            pt.plot(np.arange(0, trim, int(t / num_buckets)), reward_buckets, 'k-')\n",
        "        pt.xlabel(\"Time-step\")\n",
        "        pt.ylabel(\"Reward\")\n",
        "        pt.title(\"Reward curve\")\n",
        "\n",
        "        # Plot the optimal utility\n",
        "        # Unknown to the agent, just shown for benchmarking\n",
        "        # Just show all zeros if P tables were too large\n",
        "        pt.sca(axs[2])\n",
        "        pt.cla()\n",
        "        pt.plot(u_opt, 'k-')\n",
        "        pt.xlabel(\"state index\")\n",
        "        if u_opt.max() > 0: pt.ylim([0, u_opt.max() * 1.1])\n",
        "        pt.title(\"u*\")\n",
        "\n",
        "        # Compute estimated utilities based on current Q estimates\n",
        "        u = Q.max(axis=1) # what does this mean???\n",
        "\n",
        "       # Plot current utility to compare with optimal utility\n",
        "        pt.sca(axs[3])\n",
        "        pt.cla()\n",
        "        pt.plot(u, 'k-')\n",
        "        pt.xlabel(\"state index\")\n",
        "        if u_opt.max() > 0: pt.ylim([0, u_opt.max() * 1.1])\n",
        "        pt.title(\"u(t)\")\n",
        "\n",
        "        # Update utility error curve\n",
        "        if t % display_period == 0:\n",
        "            utility_error.append(np.fabs(u - u_opt).max())\n",
        "        \n",
        "        # Plot utility error curve\n",
        "        pt.sca(axs[4])\n",
        "        pt.cla()\n",
        "        pt.plot(utility_error, 'k-')\n",
        "        pt.xlabel(\"display period\")\n",
        "        pt.title(\"|u* - u(t)|\")\n",
        " \n",
        "        # Boiler-plate code for the animation\n",
        "        display.display(fig) # Display the current figure content\n",
        "        display.clear_output(wait=True) # don't clear it until new content is ready\n"
      ],
      "execution_count": null,
      "outputs": [
        {
          "output_type": "display_data",
          "data": {
            "image/png": "[encoded data removed]",
            "text/plain": [
              "<Figure size 1152x216 with 5 Axes>"
            ]
          },
          "metadata": {
            "needs_background": "light"
          }
        }
      ]
    }
  ]
}