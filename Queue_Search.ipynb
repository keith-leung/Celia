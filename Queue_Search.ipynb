{
  "nbformat": 4,
  "nbformat_minor": 0,
  "metadata": {
    "colab": {
      "name": "Queue_Search.ipynb",
      "provenance": [],
      "collapsed_sections": [],
      "include_colab_link": true
    },
    "kernelspec": {
      "name": "python3",
      "display_name": "Python 3"
    },
    "language_info": {
      "name": "python"
    }
  },
  "cells": [
    {
      "cell_type": "markdown",
      "metadata": {
        "id": "view-in-github",
        "colab_type": "text"
      },
      "source": [
        "<a href=\"https://colab.research.google.com/github/keith-leung/Celia/blob/master/Queue_Search.ipynb\" target=\"_parent\"><img src=\"https://colab.research.google.com/assets/colab-badge.svg\" alt=\"Open In Colab\"/></a>"
      ]
    },
    {
      "cell_type": "code",
      "metadata": {
        "colab": {
          "base_uri": "https://localhost:8080/",
          "height": 358
        },
        "id": "jvIsyNX4AgW1",
        "outputId": "192748f6-2cf6-43eb-8012-0e9daf76fe68"
      },
      "source": [
        "# TODO: Debug path()\n",
        "\n",
        "class SearchNode(object):\n",
        "    def __init__(self, problem, state, parent=None, action=None, step_cost=0, depth=0):\n",
        "        self.problem = problem\n",
        "        self.state = state\n",
        "        self.parent = parent\n",
        "        self.action = action\n",
        "        self.step_cost = step_cost\n",
        "        self.path_cost = step_cost + (0 if parent is None else parent.path_cost)\n",
        "        self.path_risk = self.path_cost + problem.heuristic(state) # A*\n",
        "        self.depth = depth\n",
        "        self.child_list = []\n",
        "    def is_goal(self):\n",
        "        return self.problem.is_goal(self.state)\n",
        "    def children(self):\n",
        "        if len(self.child_list) > 0: return self.child_list\n",
        "        domain = self.problem.domain\n",
        "        for action, step_cost in domain.valid_actions(self.state):\n",
        "            new_state = domain.perform_action(self.state, action)\n",
        "            self.child_list.append(\n",
        "                SearchNode(self.problem, new_state, self, action, step_cost, depth=self.depth+1))\n",
        "        return self.child_list\n",
        "    def path(self):\n",
        "        if self.parent == None: return []\n",
        "        return self.parent.path() + [self.action]\n",
        "\n",
        "if __name__ == \"__main__\":\n",
        "  n0 = SearchNode(problem=None, state=0, parent=None, action=None)\n",
        "  n1 = SearchNode(problem=None, state=1, parent=n0, action=\"a1\")\n",
        "  n2 = SearchNode(problem=None, state=2, parent=n1, action=\"a2\")\n",
        "  print(n2.path()) # should be [\"a1\", \"a2\"]\n"
      ],
      "execution_count": null,
      "outputs": [
        {
          "output_type": "error",
          "ename": "AttributeError",
          "evalue": "ignored",
          "traceback": [
            "\u001b[0;31m---------------------------------------------------------------------------\u001b[0m",
            "\u001b[0;31mAttributeError\u001b[0m                            Traceback (most recent call last)",
            "\u001b[0;32m<ipython-input-1-4c2fa44dd922>\u001b[0m in \u001b[0;36m<module>\u001b[0;34m()\u001b[0m\n\u001b[1;32m     27\u001b[0m \u001b[0;34m\u001b[0m\u001b[0m\n\u001b[1;32m     28\u001b[0m \u001b[0;32mif\u001b[0m \u001b[0m__name__\u001b[0m \u001b[0;34m==\u001b[0m \u001b[0;34m\"__main__\"\u001b[0m\u001b[0;34m:\u001b[0m\u001b[0;34m\u001b[0m\u001b[0;34m\u001b[0m\u001b[0m\n\u001b[0;32m---> 29\u001b[0;31m   \u001b[0mn0\u001b[0m \u001b[0;34m=\u001b[0m \u001b[0mSearchNode\u001b[0m\u001b[0;34m(\u001b[0m\u001b[0mproblem\u001b[0m\u001b[0;34m=\u001b[0m\u001b[0;32mNone\u001b[0m\u001b[0;34m,\u001b[0m \u001b[0mstate\u001b[0m\u001b[0;34m=\u001b[0m\u001b[0;36m0\u001b[0m\u001b[0;34m,\u001b[0m \u001b[0mparent\u001b[0m\u001b[0;34m=\u001b[0m\u001b[0;32mNone\u001b[0m\u001b[0;34m,\u001b[0m \u001b[0maction\u001b[0m\u001b[0;34m=\u001b[0m\u001b[0;32mNone\u001b[0m\u001b[0;34m)\u001b[0m\u001b[0;34m\u001b[0m\u001b[0;34m\u001b[0m\u001b[0m\n\u001b[0m\u001b[1;32m     30\u001b[0m   \u001b[0mn1\u001b[0m \u001b[0;34m=\u001b[0m \u001b[0mSearchNode\u001b[0m\u001b[0;34m(\u001b[0m\u001b[0mproblem\u001b[0m\u001b[0;34m=\u001b[0m\u001b[0;32mNone\u001b[0m\u001b[0;34m,\u001b[0m \u001b[0mstate\u001b[0m\u001b[0;34m=\u001b[0m\u001b[0;36m1\u001b[0m\u001b[0;34m,\u001b[0m \u001b[0mparent\u001b[0m\u001b[0;34m=\u001b[0m\u001b[0mn0\u001b[0m\u001b[0;34m,\u001b[0m \u001b[0maction\u001b[0m\u001b[0;34m=\u001b[0m\u001b[0;34m\"a1\"\u001b[0m\u001b[0;34m)\u001b[0m\u001b[0;34m\u001b[0m\u001b[0;34m\u001b[0m\u001b[0m\n\u001b[1;32m     31\u001b[0m   \u001b[0mn2\u001b[0m \u001b[0;34m=\u001b[0m \u001b[0mSearchNode\u001b[0m\u001b[0;34m(\u001b[0m\u001b[0mproblem\u001b[0m\u001b[0;34m=\u001b[0m\u001b[0;32mNone\u001b[0m\u001b[0;34m,\u001b[0m \u001b[0mstate\u001b[0m\u001b[0;34m=\u001b[0m\u001b[0;36m2\u001b[0m\u001b[0;34m,\u001b[0m \u001b[0mparent\u001b[0m\u001b[0;34m=\u001b[0m\u001b[0mn1\u001b[0m\u001b[0;34m,\u001b[0m \u001b[0maction\u001b[0m\u001b[0;34m=\u001b[0m\u001b[0;34m\"a2\"\u001b[0m\u001b[0;34m)\u001b[0m\u001b[0;34m\u001b[0m\u001b[0;34m\u001b[0m\u001b[0m\n",
            "\u001b[0;32m<ipython-input-1-4c2fa44dd922>\u001b[0m in \u001b[0;36m__init__\u001b[0;34m(self, problem, state, parent, action, step_cost, depth)\u001b[0m\n\u001b[1;32m      9\u001b[0m         \u001b[0mself\u001b[0m\u001b[0;34m.\u001b[0m\u001b[0mstep_cost\u001b[0m \u001b[0;34m=\u001b[0m \u001b[0mstep_cost\u001b[0m\u001b[0;34m\u001b[0m\u001b[0;34m\u001b[0m\u001b[0m\n\u001b[1;32m     10\u001b[0m         \u001b[0mself\u001b[0m\u001b[0;34m.\u001b[0m\u001b[0mpath_cost\u001b[0m \u001b[0;34m=\u001b[0m \u001b[0mstep_cost\u001b[0m \u001b[0;34m+\u001b[0m \u001b[0;34m(\u001b[0m\u001b[0;36m0\u001b[0m \u001b[0;32mif\u001b[0m \u001b[0mparent\u001b[0m \u001b[0;32mis\u001b[0m \u001b[0;32mNone\u001b[0m \u001b[0;32melse\u001b[0m \u001b[0mparent\u001b[0m\u001b[0;34m.\u001b[0m\u001b[0mpath_cost\u001b[0m\u001b[0;34m)\u001b[0m\u001b[0;34m\u001b[0m\u001b[0;34m\u001b[0m\u001b[0m\n\u001b[0;32m---> 11\u001b[0;31m         \u001b[0mself\u001b[0m\u001b[0;34m.\u001b[0m\u001b[0mpath_risk\u001b[0m \u001b[0;34m=\u001b[0m \u001b[0mself\u001b[0m\u001b[0;34m.\u001b[0m\u001b[0mpath_cost\u001b[0m \u001b[0;34m+\u001b[0m \u001b[0mproblem\u001b[0m\u001b[0;34m.\u001b[0m\u001b[0mheuristic\u001b[0m\u001b[0;34m(\u001b[0m\u001b[0mstate\u001b[0m\u001b[0;34m)\u001b[0m \u001b[0;31m# A*\u001b[0m\u001b[0;34m\u001b[0m\u001b[0;34m\u001b[0m\u001b[0m\n\u001b[0m\u001b[1;32m     12\u001b[0m         \u001b[0mself\u001b[0m\u001b[0;34m.\u001b[0m\u001b[0mdepth\u001b[0m \u001b[0;34m=\u001b[0m \u001b[0mdepth\u001b[0m\u001b[0;34m\u001b[0m\u001b[0;34m\u001b[0m\u001b[0m\n\u001b[1;32m     13\u001b[0m         \u001b[0mself\u001b[0m\u001b[0;34m.\u001b[0m\u001b[0mchild_list\u001b[0m \u001b[0;34m=\u001b[0m \u001b[0;34m[\u001b[0m\u001b[0;34m]\u001b[0m\u001b[0;34m\u001b[0m\u001b[0;34m\u001b[0m\u001b[0m\n",
            "\u001b[0;31mAttributeError\u001b[0m: 'NoneType' object has no attribute 'heuristic'"
          ]
        }
      ]
    },
    {
      "cell_type": "code",
      "metadata": {
        "id": "YNmPU88FrI9_",
        "colab": {
          "base_uri": "https://localhost:8080/"
        },
        "outputId": "e969397f-6ab1-4b9b-d40e-04ee7ca6cc81"
      },
      "source": [
        "# TODO: change is_goal so that all multiples of 5 are goals\n",
        "\n",
        "# TODO A*: Add a default heuristic function (h_UCS) to SearchProblem\n",
        "\n",
        "class SearchProblem(object):\n",
        "    def __init__(self, domain, initial_state, is_goal = None):\n",
        "        if is_goal is None: is_goal = lambda s: False\n",
        "        #if is_goal is None: is_goal = False\n",
        "        self.domain = domain\n",
        "        self.initial_state = initial_state\n",
        "        self.is_goal = is_goal\n",
        "        self.heuristic = lambda s: 0\n",
        "    def root_node(self):\n",
        "        return SearchNode(self, self.initial_state)\n",
        "\n",
        "# def is_goal(s):\n",
        "#   return (s%2 == 0)\n",
        "\n",
        "if __name__ == \"__main__\":\n",
        "  problem = SearchProblem(domain=None, initial_state=0, is_goal=lambda s: s % 5 == 0)\n",
        "  print(problem.is_goal(5))\n"
      ],
      "execution_count": null,
      "outputs": [
        {
          "output_type": "stream",
          "name": "stdout",
          "text": [
            "True\n"
          ]
        }
      ]
    },
    {
      "cell_type": "code",
      "metadata": {
        "colab": {
          "base_uri": "https://localhost:8080/",
          "height": 162
        },
        "id": "z7BqNqQukF2C",
        "outputId": "650c5cce-7d51-4c4a-cc21-a4b9ce24fb6d"
      },
      "source": [
        "False(5)"
      ],
      "execution_count": null,
      "outputs": [
        {
          "output_type": "error",
          "ename": "TypeError",
          "evalue": "ignored",
          "traceback": [
            "\u001b[0;31m---------------------------------------------------------------------------\u001b[0m",
            "\u001b[0;31mTypeError\u001b[0m                                 Traceback (most recent call last)",
            "\u001b[0;32m<ipython-input-55-b614eabb0adb>\u001b[0m in \u001b[0;36m<module>\u001b[0;34m()\u001b[0m\n\u001b[0;32m----> 1\u001b[0;31m \u001b[0;32mFalse\u001b[0m\u001b[0;34m(\u001b[0m\u001b[0;36m5\u001b[0m\u001b[0;34m)\u001b[0m\u001b[0;34m\u001b[0m\u001b[0;34m\u001b[0m\u001b[0m\n\u001b[0m",
            "\u001b[0;31mTypeError\u001b[0m: 'bool' object is not callable"
          ]
        }
      ]
    },
    {
      "cell_type": "code",
      "metadata": {
        "colab": {
          "base_uri": "https://localhost:8080/",
          "height": 237
        },
        "id": "BCVdhG0FBUy1",
        "outputId": "a2a5aff2-0699-488e-b81a-2f661530520d"
      },
      "source": [
        "# TODO: change path costs so that last node added gets popped\n",
        "# TODO A*: change priority queue to use risk instead of cost\n",
        "\n",
        "import numpy as np\n",
        "from collections import deque\n",
        "\n",
        "class FIFOFrontier(object):\n",
        "    def __init__(self):\n",
        "        self.queue_nodes = deque()\n",
        "        self.queue_states = set()\n",
        "    def push(self, node):\n",
        "        if node.state not in self.queue_states:\n",
        "            self.queue_nodes.append(node)\n",
        "            self.queue_states.add(node.state)\n",
        "    def pop(self):\n",
        "        node = self.queue_nodes.popleft()\n",
        "        self.queue_states.remove(node.state)\n",
        "        return node\n",
        "    def is_not_empty(self):\n",
        "        return len(self.queue_nodes) > 0\n",
        "\n",
        "class PriorityFIFOFrontier(object):\n",
        "    \"\"\"\n",
        "    FIFO queue (for breaking ties) but pops lowest path cost first\n",
        "    \"\"\"\n",
        "    def __init__(self):\n",
        "        self.queue_nodes = []\n",
        "        self.queue_states = {}\n",
        "    def push(self, node):\n",
        "        if node.state in self.queue_states:\n",
        "            other_node = self.queue_states[node.state]\n",
        "            if node.path_risk >= other_node.path_risk: return\n",
        "            self.queue_nodes.remove(other_node)\n",
        "            self.queue_states.pop(other_node.state)\n",
        "        self.queue_states[node.state] = node\n",
        "        self.queue_nodes.append(node)\n",
        "    def pop(self):\n",
        "        idx = np.argmin([node.path_risk for node in self.queue_nodes])\n",
        "        node = self.queue_nodes.pop(idx)\n",
        "        self.queue_states.pop(node.state)\n",
        "        return node\n",
        "    def is_not_empty(self):\n",
        "        return len(self.queue_nodes) > 0\n",
        "\n",
        "if __name__ == \"__main__\":\n",
        "\n",
        "  q = PriorityFIFOFrontier()\n",
        "  n0.path_cost = 10\n",
        "  n1.path_cost = 3\n",
        "  n2.path_cost = 7\n",
        "  for n in [n0, n1, n2]:\n",
        "    q.push(n)\n",
        "    print(q.queue_nodes)\n",
        "  q.pop()\n",
        "  print(q.queue_nodes)\n"
      ],
      "execution_count": null,
      "outputs": [
        {
          "output_type": "error",
          "ename": "NameError",
          "evalue": "ignored",
          "traceback": [
            "\u001b[0;31m---------------------------------------------------------------------------\u001b[0m",
            "\u001b[0;31mNameError\u001b[0m                                 Traceback (most recent call last)",
            "\u001b[0;32m<ipython-input-3-9f567c7e003b>\u001b[0m in \u001b[0;36m<module>\u001b[0;34m()\u001b[0m\n\u001b[1;32m     46\u001b[0m \u001b[0;34m\u001b[0m\u001b[0m\n\u001b[1;32m     47\u001b[0m   \u001b[0mq\u001b[0m \u001b[0;34m=\u001b[0m \u001b[0mPriorityFIFOFrontier\u001b[0m\u001b[0;34m(\u001b[0m\u001b[0;34m)\u001b[0m\u001b[0;34m\u001b[0m\u001b[0;34m\u001b[0m\u001b[0m\n\u001b[0;32m---> 48\u001b[0;31m   \u001b[0mn0\u001b[0m\u001b[0;34m.\u001b[0m\u001b[0mpath_cost\u001b[0m \u001b[0;34m=\u001b[0m \u001b[0;36m10\u001b[0m\u001b[0;34m\u001b[0m\u001b[0;34m\u001b[0m\u001b[0m\n\u001b[0m\u001b[1;32m     49\u001b[0m   \u001b[0mn1\u001b[0m\u001b[0;34m.\u001b[0m\u001b[0mpath_cost\u001b[0m \u001b[0;34m=\u001b[0m \u001b[0;36m3\u001b[0m\u001b[0;34m\u001b[0m\u001b[0;34m\u001b[0m\u001b[0m\n\u001b[1;32m     50\u001b[0m   \u001b[0mn2\u001b[0m\u001b[0;34m.\u001b[0m\u001b[0mpath_cost\u001b[0m \u001b[0;34m=\u001b[0m \u001b[0;36m7\u001b[0m\u001b[0;34m\u001b[0m\u001b[0;34m\u001b[0m\u001b[0m\n",
            "\u001b[0;31mNameError\u001b[0m: name 'n0' is not defined"
          ]
        }
      ]
    },
    {
      "cell_type": "code",
      "metadata": {
        "id": "XrGAhCYbBfbK"
      },
      "source": [
        "# TODO: finish the astar_search implementation\n",
        "\n",
        "def queue_search(frontier, problem):\n",
        "    explored = set()\n",
        "    root = problem.root_node()\n",
        "    frontier.push(root)\n",
        "    while frontier.is_not_empty():\n",
        "        node = frontier.pop()\n",
        "        if node.is_goal(): break\n",
        "        explored.add(node.state)\n",
        "        for child in node.children():\n",
        "            if child.state in explored: continue\n",
        "            frontier.push(child)\n",
        "    plan = node.path() if node.is_goal() else []\n",
        "    return plan\n",
        "\n",
        "def breadth_first_search(problem):\n",
        "    return queue_search(FIFOFrontier(), problem)\n",
        "\n",
        "def uniform_cost_search(problem):\n",
        "    return queue_search(PriorityFIFOFrontier(), problem)\n",
        "\n",
        "def a_star_search(problem, heuristic):\n",
        "    problem.heuristic = heuristic\n",
        "    return queue_search(PriorityFIFOFrontier(), problem)"
      ],
      "execution_count": null,
      "outputs": []
    },
    {
      "cell_type": "code",
      "metadata": {
        "colab": {
          "base_uri": "https://localhost:8080/",
          "height": 370
        },
        "id": "atBuqQ7FB-vg",
        "outputId": "937af6d2-6578-44bc-9241-b4793efd4b92"
      },
      "source": [
        "# TODO: debug\n",
        "\n",
        "class BottleDomain(object):\n",
        "    def __init__(self, capacities):\n",
        "        self.capacities = capacities # capacities[b] is maximum capacity for the bth bottle\n",
        "    def valid_actions(self, state):\n",
        "        bottles = range(len(state))\n",
        "        fills = [(\"fill %d\"%b,10*b + 1) for b in bottles]\n",
        "        empty = [(\"dump %d\"%b,10*b + 1) for b in bottles]\n",
        "        pours = [(\"pour %d into %d\"%(b1,b2),10*b1+1) for b1 in bottles for b2 in bottles if b1 != b2]\n",
        "        return fills + empty + pours    \n",
        "    def perform_action(self, state, action):\n",
        "        new_state = list(state)\n",
        "        if action[:4] == \"fill\":\n",
        "            b = int(action[5:]) # bottle to fill\n",
        "            new_state[b] = self.capacities[b]\n",
        "        if action[:4] == \"dump\":\n",
        "            b = int(action[5:]) # bottle to dump\n",
        "            new_state[b] = 0\n",
        "        if action[:4] == \"pour\":\n",
        "            b1, b2 = map(int, action[5:].split(\" into \")) # pour b1 into b2\n",
        "            amount = min(state[b1], self.capacities[b2] - state[b2])\n",
        "            new_state[b1] = state[b1] - amount\n",
        "            new_state[b2] = state[b2] + amount\n",
        "        return tuple(new_state)\n",
        "\n",
        "if __name__ == \"__main__\":\n",
        "\n",
        "    # Make a domain with two bottles, a 5-liter and 3-liter\n",
        "    domain = BottleDomain(capacities = (5, 3))\n",
        "\n",
        "    # Define a search problem with initial and goal states\n",
        "    # is_goal is a function handle that accepts bottle states as input.\n",
        "    # it returns True if the state is a goal, False otherwise.\n",
        "    problem = SearchProblem(domain,\n",
        "        initial_state = (0, 0),\n",
        "        # is_goal = lambda s: s == (5, 3)\n",
        "        # is_goal = lambda s: s[1] == 1)\n",
        "        # is_goal = lambda s: s == (0, 1)\n",
        "        is_goal = lambda s: any([l == 1 for l in s])\n",
        "    )\n",
        "\n",
        "        \n",
        "    # Solve the search problem with BFS and validate the plan\n",
        "    bfs_plan = breadth_first_search(problem)\n",
        "    plan = uniform_cost_search(problem)\n",
        "    print(bfs_plan)\n",
        "    print(plan)\n",
        "    state = problem.initial_state\n",
        "    print(state)\n",
        "    for action in plan:\n",
        "        print(action)\n",
        "        state = domain.perform_action(state, action)\n",
        "        print(state)\n"
      ],
      "execution_count": null,
      "outputs": [
        {
          "output_type": "error",
          "ename": "AttributeError",
          "evalue": "ignored",
          "traceback": [
            "\u001b[0;31m---------------------------------------------------------------------------\u001b[0m",
            "\u001b[0;31mAttributeError\u001b[0m                            Traceback (most recent call last)",
            "\u001b[0;32m<ipython-input-5-985f5381850b>\u001b[0m in \u001b[0;36m<module>\u001b[0;34m()\u001b[0m\n\u001b[1;32m     43\u001b[0m \u001b[0;34m\u001b[0m\u001b[0m\n\u001b[1;32m     44\u001b[0m     \u001b[0;31m# Solve the search problem with BFS and validate the plan\u001b[0m\u001b[0;34m\u001b[0m\u001b[0;34m\u001b[0m\u001b[0;34m\u001b[0m\u001b[0m\n\u001b[0;32m---> 45\u001b[0;31m     \u001b[0mbfs_plan\u001b[0m \u001b[0;34m=\u001b[0m \u001b[0mbreadth_first_search\u001b[0m\u001b[0;34m(\u001b[0m\u001b[0mproblem\u001b[0m\u001b[0;34m)\u001b[0m\u001b[0;34m\u001b[0m\u001b[0;34m\u001b[0m\u001b[0m\n\u001b[0m\u001b[1;32m     46\u001b[0m     \u001b[0mplan\u001b[0m \u001b[0;34m=\u001b[0m \u001b[0muniform_cost_search\u001b[0m\u001b[0;34m(\u001b[0m\u001b[0mproblem\u001b[0m\u001b[0;34m)\u001b[0m\u001b[0;34m\u001b[0m\u001b[0;34m\u001b[0m\u001b[0m\n\u001b[1;32m     47\u001b[0m     \u001b[0mprint\u001b[0m\u001b[0;34m(\u001b[0m\u001b[0mbfs_plan\u001b[0m\u001b[0;34m)\u001b[0m\u001b[0;34m\u001b[0m\u001b[0;34m\u001b[0m\u001b[0m\n",
            "\u001b[0;32m<ipython-input-4-cddfa92bc9fb>\u001b[0m in \u001b[0;36mbreadth_first_search\u001b[0;34m(problem)\u001b[0m\n\u001b[1;32m     16\u001b[0m \u001b[0;34m\u001b[0m\u001b[0m\n\u001b[1;32m     17\u001b[0m \u001b[0;32mdef\u001b[0m \u001b[0mbreadth_first_search\u001b[0m\u001b[0;34m(\u001b[0m\u001b[0mproblem\u001b[0m\u001b[0;34m)\u001b[0m\u001b[0;34m:\u001b[0m\u001b[0;34m\u001b[0m\u001b[0;34m\u001b[0m\u001b[0m\n\u001b[0;32m---> 18\u001b[0;31m     \u001b[0;32mreturn\u001b[0m \u001b[0mqueue_search\u001b[0m\u001b[0;34m(\u001b[0m\u001b[0mFIFOFrontier\u001b[0m\u001b[0;34m(\u001b[0m\u001b[0;34m)\u001b[0m\u001b[0;34m,\u001b[0m \u001b[0mproblem\u001b[0m\u001b[0;34m)\u001b[0m\u001b[0;34m\u001b[0m\u001b[0;34m\u001b[0m\u001b[0m\n\u001b[0m\u001b[1;32m     19\u001b[0m \u001b[0;34m\u001b[0m\u001b[0m\n\u001b[1;32m     20\u001b[0m \u001b[0;32mdef\u001b[0m \u001b[0muniform_cost_search\u001b[0m\u001b[0;34m(\u001b[0m\u001b[0mproblem\u001b[0m\u001b[0;34m)\u001b[0m\u001b[0;34m:\u001b[0m\u001b[0;34m\u001b[0m\u001b[0;34m\u001b[0m\u001b[0m\n",
            "\u001b[0;32m<ipython-input-4-cddfa92bc9fb>\u001b[0m in \u001b[0;36mqueue_search\u001b[0;34m(frontier, problem)\u001b[0m\n\u001b[1;32m      3\u001b[0m \u001b[0;32mdef\u001b[0m \u001b[0mqueue_search\u001b[0m\u001b[0;34m(\u001b[0m\u001b[0mfrontier\u001b[0m\u001b[0;34m,\u001b[0m \u001b[0mproblem\u001b[0m\u001b[0;34m)\u001b[0m\u001b[0;34m:\u001b[0m\u001b[0;34m\u001b[0m\u001b[0;34m\u001b[0m\u001b[0m\n\u001b[1;32m      4\u001b[0m     \u001b[0mexplored\u001b[0m \u001b[0;34m=\u001b[0m \u001b[0mset\u001b[0m\u001b[0;34m(\u001b[0m\u001b[0;34m)\u001b[0m\u001b[0;34m\u001b[0m\u001b[0;34m\u001b[0m\u001b[0m\n\u001b[0;32m----> 5\u001b[0;31m     \u001b[0mroot\u001b[0m \u001b[0;34m=\u001b[0m \u001b[0mproblem\u001b[0m\u001b[0;34m.\u001b[0m\u001b[0mroot_node\u001b[0m\u001b[0;34m(\u001b[0m\u001b[0;34m)\u001b[0m\u001b[0;34m\u001b[0m\u001b[0;34m\u001b[0m\u001b[0m\n\u001b[0m\u001b[1;32m      6\u001b[0m     \u001b[0mfrontier\u001b[0m\u001b[0;34m.\u001b[0m\u001b[0mpush\u001b[0m\u001b[0;34m(\u001b[0m\u001b[0mroot\u001b[0m\u001b[0;34m)\u001b[0m\u001b[0;34m\u001b[0m\u001b[0;34m\u001b[0m\u001b[0m\n\u001b[1;32m      7\u001b[0m     \u001b[0;32mwhile\u001b[0m \u001b[0mfrontier\u001b[0m\u001b[0;34m.\u001b[0m\u001b[0mis_not_empty\u001b[0m\u001b[0;34m(\u001b[0m\u001b[0;34m)\u001b[0m\u001b[0;34m:\u001b[0m\u001b[0;34m\u001b[0m\u001b[0;34m\u001b[0m\u001b[0m\n",
            "\u001b[0;32m<ipython-input-2-2512e9446a40>\u001b[0m in \u001b[0;36mroot_node\u001b[0;34m(self)\u001b[0m\n\u001b[1;32m     11\u001b[0m         \u001b[0mself\u001b[0m\u001b[0;34m.\u001b[0m\u001b[0mis_goal\u001b[0m \u001b[0;34m=\u001b[0m \u001b[0mis_goal\u001b[0m\u001b[0;34m\u001b[0m\u001b[0;34m\u001b[0m\u001b[0m\n\u001b[1;32m     12\u001b[0m     \u001b[0;32mdef\u001b[0m \u001b[0mroot_node\u001b[0m\u001b[0;34m(\u001b[0m\u001b[0mself\u001b[0m\u001b[0;34m)\u001b[0m\u001b[0;34m:\u001b[0m\u001b[0;34m\u001b[0m\u001b[0;34m\u001b[0m\u001b[0m\n\u001b[0;32m---> 13\u001b[0;31m         \u001b[0;32mreturn\u001b[0m \u001b[0mSearchNode\u001b[0m\u001b[0;34m(\u001b[0m\u001b[0mself\u001b[0m\u001b[0;34m,\u001b[0m \u001b[0mself\u001b[0m\u001b[0;34m.\u001b[0m\u001b[0minitial_state\u001b[0m\u001b[0;34m)\u001b[0m\u001b[0;34m\u001b[0m\u001b[0;34m\u001b[0m\u001b[0m\n\u001b[0m\u001b[1;32m     14\u001b[0m \u001b[0;34m\u001b[0m\u001b[0m\n\u001b[1;32m     15\u001b[0m \u001b[0;31m# def is_goal(s):\u001b[0m\u001b[0;34m\u001b[0m\u001b[0;34m\u001b[0m\u001b[0;34m\u001b[0m\u001b[0m\n",
            "\u001b[0;32m<ipython-input-1-4c2fa44dd922>\u001b[0m in \u001b[0;36m__init__\u001b[0;34m(self, problem, state, parent, action, step_cost, depth)\u001b[0m\n\u001b[1;32m      9\u001b[0m         \u001b[0mself\u001b[0m\u001b[0;34m.\u001b[0m\u001b[0mstep_cost\u001b[0m \u001b[0;34m=\u001b[0m \u001b[0mstep_cost\u001b[0m\u001b[0;34m\u001b[0m\u001b[0;34m\u001b[0m\u001b[0m\n\u001b[1;32m     10\u001b[0m         \u001b[0mself\u001b[0m\u001b[0;34m.\u001b[0m\u001b[0mpath_cost\u001b[0m \u001b[0;34m=\u001b[0m \u001b[0mstep_cost\u001b[0m \u001b[0;34m+\u001b[0m \u001b[0;34m(\u001b[0m\u001b[0;36m0\u001b[0m \u001b[0;32mif\u001b[0m \u001b[0mparent\u001b[0m \u001b[0;32mis\u001b[0m \u001b[0;32mNone\u001b[0m \u001b[0;32melse\u001b[0m \u001b[0mparent\u001b[0m\u001b[0;34m.\u001b[0m\u001b[0mpath_cost\u001b[0m\u001b[0;34m)\u001b[0m\u001b[0;34m\u001b[0m\u001b[0;34m\u001b[0m\u001b[0m\n\u001b[0;32m---> 11\u001b[0;31m         \u001b[0mself\u001b[0m\u001b[0;34m.\u001b[0m\u001b[0mpath_risk\u001b[0m \u001b[0;34m=\u001b[0m \u001b[0mself\u001b[0m\u001b[0;34m.\u001b[0m\u001b[0mpath_cost\u001b[0m \u001b[0;34m+\u001b[0m \u001b[0mproblem\u001b[0m\u001b[0;34m.\u001b[0m\u001b[0mheuristic\u001b[0m\u001b[0;34m(\u001b[0m\u001b[0mstate\u001b[0m\u001b[0;34m)\u001b[0m \u001b[0;31m# A*\u001b[0m\u001b[0;34m\u001b[0m\u001b[0;34m\u001b[0m\u001b[0m\n\u001b[0m\u001b[1;32m     12\u001b[0m         \u001b[0mself\u001b[0m\u001b[0;34m.\u001b[0m\u001b[0mdepth\u001b[0m \u001b[0;34m=\u001b[0m \u001b[0mdepth\u001b[0m\u001b[0;34m\u001b[0m\u001b[0;34m\u001b[0m\u001b[0m\n\u001b[1;32m     13\u001b[0m         \u001b[0mself\u001b[0m\u001b[0;34m.\u001b[0m\u001b[0mchild_list\u001b[0m \u001b[0;34m=\u001b[0m \u001b[0;34m[\u001b[0m\u001b[0;34m]\u001b[0m\u001b[0;34m\u001b[0m\u001b[0;34m\u001b[0m\u001b[0m\n",
            "\u001b[0;31mAttributeError\u001b[0m: 'SearchProblem' object has no attribute 'heuristic'"
          ]
        }
      ]
    },
    {
      "cell_type": "code",
      "metadata": {
        "id": "VdZHS4o0ttFL",
        "colab": {
          "base_uri": "https://localhost:8080/",
          "height": 674
        },
        "outputId": "71ba36aa-7f70-458c-efa9-fc31a9ea09a3"
      },
      "source": [
        "# TODO: finish implementing the cubie heuristic\n",
        "\n",
        "\"\"\"\n",
        "2x2x2 rubiks cube\n",
        "state is a 2x2x2x3 char array\n",
        "first 3 dimensions are positions on the cube\n",
        "last dimension is the colors in each of the 3 spatial directions\n",
        "spatial directions are 0:x, 1:y, 2:z\n",
        "\"\"\"\n",
        "import numpy as np\n",
        "import matplotlib.pyplot as pt\n",
        "import itertools as it\n",
        "from matplotlib.patches import Polygon\n",
        "\n",
        "R, G, B, W, Y, O = range(6)\n",
        "def colorstr(i): return \"RGBWYO\"[i]\n",
        "colors = {\n",
        "    R: (1.,0.,0.), # red\n",
        "    G: (0.,1.,0.), # green\n",
        "    B: (0.,0.,1.), # blue\n",
        "    W: (1.,1.,1.), # white\n",
        "    Y: (1.,1.,0.), # yellow\n",
        "    O: (1.,.64,0.), # orange\n",
        "}\n",
        "\n",
        "def unhash(state):\n",
        "    return np.frombuffer(state, dtype=np.byte).reshape((2,2,2,3))\n",
        "def rehash(state):\n",
        "    return state.tobytes()\n",
        "def solved_state():\n",
        "    solved = np.zeros((2,2,2,3),dtype=np.byte)\n",
        "    solved[0,:,:,0] = R\n",
        "    solved[1,:,:,0] = O\n",
        "    solved[:,0,:,1] = W\n",
        "    solved[:,1,:,1] = Y\n",
        "    solved[:,:,1,2] = G\n",
        "    solved[:,:,0,2] = B\n",
        "    return rehash(solved)\n",
        "\n",
        "class RubiksDomain(object):\n",
        "    def __init__(self):\n",
        "        pass\n",
        "    def valid_actions(self, state):\n",
        "        return [(0,1), (1,1), (2,1)] # which spatial direction to spin, equal step-cost\n",
        "    def perform_action(self, state, action):\n",
        "        new_state = unhash(state).copy()\n",
        "        # rotate cubie positions\n",
        "        index = [slice(None)]*4\n",
        "        index[action] = 1\n",
        "        new_state[tuple(index)] = np.rot90(new_state[tuple(index)], axes=(0,1))\n",
        "        # rotate cubies\n",
        "        swap = [d for d in range(3) if d != action]\n",
        "        new_state[tuple(index[:3])+(swap,)] = new_state[tuple(index[:3])+(swap[::-1],)]\n",
        "        return rehash(new_state)\n",
        "    def render(self, ax, state, x0, y0):\n",
        "        state = unhash(state)\n",
        "        angles = -np.arange(3) * np.pi * 2 / 3\n",
        "        axes = np.array([np.cos(angles), np.sin(angles)])\n",
        "        for d in range(3):\n",
        "            for a, b in [(0,0),(0,1),(1,0),(1,1)]:\n",
        "                xy = [a*axes[:,d] + b*axes[:,(d+1) % 3],\n",
        "                    (a+1)*axes[:,d] + b*axes[:,(d+1) % 3],\n",
        "                    (a+1)*axes[:,d] + (b+1)*axes[:,(d+1) % 3],\n",
        "                    a*axes[:,d] + (b+1)*axes[:,(d+1) % 3]]\n",
        "                xy = [(x+x0, y+y0) for (x,y) in xy]\n",
        "                c = colors[state[tuple(np.roll((a,b,0),d))+((d+2) % 3,)]]\n",
        "                ax.add_patch(Polygon(xy, facecolor=c, edgecolor='k'))\n",
        "    def node_diameter(self):\n",
        "        return 4.4\n",
        "\n",
        "domain = RubiksDomain()\n",
        "def drawcube(state, ax):\n",
        "    domain.render(ax, state, 0, 0)\n",
        "    ax.set_xlim([-2, 2])\n",
        "    ax.set_ylim([-2, 2])\n",
        "    ax.axis(\"equal\")\n",
        "    ax.axis('off')\n",
        "\n",
        "if __name__ == \"__main__\":\n",
        "\n",
        "    def cubie_heuristic(state):\n",
        "    \n",
        "        solved = unhash(solved_state())\n",
        "        h = [] # list of heuristics for each cubie\n",
        "        # check each cubie\n",
        "        for i,j,k in it.product([0,1],repeat=3):\n",
        "            # solve bfs mini-problem to just place that one cubie at [i,j,k,:]\n",
        "            cubie_plan = [] # replace this\n",
        "            h.append(len(cubie_plan))\n",
        "        return max(h)\n",
        "\n",
        "    ### examples for slides\n",
        "\n",
        "    solved = solved_state()\n",
        "    blank = unhash(solved).copy()\n",
        "    blank[:] = W\n",
        "    blank = rehash(blank)\n",
        "    pt.figure()\n",
        "    ax = pt.subplot(2,1,1)\n",
        "    drawcube(blank, ax)\n",
        "    ax = pt.subplot(2,1,2)\n",
        "    drawcube(solved, ax)\n",
        "    pt.show()\n",
        "\n",
        "    # plan = [0, 1, 0, 2] # bfs\n",
        "    plan = [2, 0, 0, 0, 1, 2, 1, 0] # decent astar example\n",
        "    # plan = np.random.choice([0,1,2],(8,)) # random astar\n",
        "\n",
        "    plan = plan[:4]\n",
        "\n",
        "    print(\"scramble plan:\")\n",
        "    print(list(plan))\n",
        "    state = solved\n",
        "    drawcube(state, pt.subplot(4,4,1))\n",
        "    for a,action in enumerate(plan):\n",
        "        for _ in range(3): # one rotation in opposite orientation\n",
        "            state = domain.perform_action(state, action)\n",
        "        drawcube(state, pt.subplot(4,4,a+2))\n",
        "    pt.show()\n",
        "\n",
        "    problem = SearchProblem(domain,\n",
        "        initial_state = state,\n",
        "        is_goal = lambda s: s == solved)\n",
        "    plan = a_star_search(problem, heuristic = cubie_heuristic)\n",
        "    pt.figure(figsize=(10,10))\n",
        "    drawcube(state, pt.subplot(4,4,1))\n",
        "    for a,action in enumerate(plan):\n",
        "        state = domain.perform_action(state, action)\n",
        "        drawcube(state, pt.subplot(4,4,a+2))\n",
        "    pt.show()\n"
      ],
      "execution_count": null,
      "outputs": [
        {
          "output_type": "display_data",
          "data": {
            "image/png": "[encoded data removed]",
            "text/plain": [
              "<Figure size 432x288 with 2 Axes>"
            ]
          },
          "metadata": {
            "needs_background": "light"
          }
        },
        {
          "output_type": "stream",
          "name": "stdout",
          "text": [
            "scramble plan:\n",
            "[2, 0, 0, 0]\n"
          ]
        },
        {
          "output_type": "display_data",
          "data": {
            "image/png": "[encoded data removed]",
            "text/plain": [
              "<Figure size 432x288 with 5 Axes>"
            ]
          },
          "metadata": {
            "needs_background": "light"
          }
        },
        {
          "output_type": "display_data",
          "data": {
            "image/png": "[encoded data removed]",
            "text/plain": [
              "<Figure size 720x720 with 5 Axes>"
            ]
          },
          "metadata": {
            "needs_background": "light"
          }
        }
      ]
    },
    {
      "cell_type": "code",
      "metadata": {
        "id": "vVC5oiZ5PKxN"
      },
      "source": [
        "import numpy as np\n",
        "import matplotlib.pyplot as pt\n",
        "\n",
        "WALL, CHARGER, CLEAN, DIRTY = list(range(4))\n",
        "SIZE = 11\n",
        "\n",
        "class RoombaDomain:\n",
        "    def __init__(self):\n",
        "\n",
        "        # deterministic grid world\n",
        "        num_rows, num_cols = SIZE, SIZE\n",
        "        grid = CLEAN*np.ones((num_rows, num_cols), dtype=int)\n",
        "        grid[SIZE//2, 1:SIZE-1] = WALL\n",
        "        grid[1:SIZE//2+1,SIZE//2] = WALL\n",
        "        grid[0,0] = CHARGER\n",
        "        grid[0,-1] = CHARGER\n",
        "        grid[-1,SIZE//2] = CHARGER\n",
        "        max_power = 2*SIZE\n",
        "        \n",
        "        self.grid = grid\n",
        "        self.max_power = max_power\n",
        "\n",
        "    def pack(self, g, r, c, p):\n",
        "        return (g.tobytes(), r, c, p)\n",
        "    def unpack(self, state):\n",
        "        grid, r, c, p = state\n",
        "        grid = np.frombuffer(grid, dtype=int).reshape(self.grid.shape).copy()\n",
        "        return grid, r, c, p\n",
        "\n",
        "    def initial_state(self):\n",
        "        positions = list(zip(*np.nonzero(self.grid == CHARGER)))\n",
        "        # r, c = positions[np.random.randint(len(positions))]\n",
        "        r, c = 0, 0\n",
        "\n",
        "        positions = np.random.permutation(list(zip(*np.nonzero(self.grid == CLEAN))))\n",
        "        grid = self.grid.copy()\n",
        "        for dirty in range(5): grid[tuple(positions[dirty])] = DIRTY\n",
        "\n",
        "        # grid = self.grid + (np.random.rand(*self.grid.shape) < .1)*(self.grid == 2)\n",
        "\n",
        "        return self.pack(grid, r, c, self.max_power)\n",
        "\n",
        "    def render(self, ax, state, x=0, y=0):\n",
        "        grid, r, c, p = self.unpack(state)\n",
        "        num_rows, num_cols = grid.shape\n",
        "        ax.imshow(grid, cmap='gray', vmin=0, vmax=3, extent=(x-.5,x+num_cols-.5, y+num_rows-.5, y-.5))\n",
        "        for col in range(num_cols+1): pt.plot([x+ col-.5, x+ col-.5], [y+ -.5, y+ num_rows-.5], 'k-')\n",
        "        for row in range(num_rows+1): pt.plot([x+ -.5, x+ num_cols-.5], [y+ row-.5, y+ row-.5], 'k-')\n",
        "        pt.text(c-.25, r+.25, str(p), fontsize=24)\n",
        "        pt.tick_params(which='both', bottom=False, left=False, labelbottom=False, labelleft=False)\n",
        "\n",
        "    def valid_actions(self, state):\n",
        "        grid, r, c, p = self.unpack(state)\n",
        "        num_rows, num_cols = grid.shape\n",
        "        actions = []\n",
        "        if r > 0 and grid[r-1,c] != WALL: actions.append(((-1, 0), 1))\n",
        "        if r < num_rows-1 and grid[r+1,c] != WALL: actions.append(((1, 0), 1))\n",
        "        ### TODO: add code for column (c) boundaries\n",
        "        if c > 0 and grid[r,c-1] != WALL: actions.append(((0, -1), 1))\n",
        "        if c < num_cols-1 and grid[r,c+1] != WALL: actions.append(((0, 1), 1))        \n",
        "        ### TODO: add code to deal with zero power\n",
        "        if p <= 0: actions = []\n",
        "        return actions\n",
        "    \n",
        "    def perform_action(self, state, action):\n",
        "        grid, r, c, p = self.unpack(state)\n",
        "        dr, dc = action # dr, dc = action[0], action[1]\n",
        "        r, c = r + dr, c + dc\n",
        "        ### TODO: add code to deal with drainage and recharging\n",
        "        p -= 1\n",
        "        if grid[r,c] == CHARGER: p = self.max_power\n",
        "        ### TODO: add code to deal with cleaning\n",
        "        if grid[r,c] == DIRTY: grid[r,c] = CLEAN\n",
        "        new_state = self.pack(grid, r, c, p)\n",
        "        return new_state"
      ],
      "execution_count": null,
      "outputs": []
    },
    {
      "cell_type": "code",
      "metadata": {
        "colab": {
          "base_uri": "https://localhost:8080/"
        },
        "id": "eMQM2IpOh46K",
        "outputId": "6370fa77-00cb-4957-ac5a-41ba3e2f328b"
      },
      "source": [
        "x=np.ones((2,3))*CLEAN\n",
        "x[1:]= 0\n",
        "print(x)\n",
        "print(np.nonzero(x))\n",
        "print(list(zip(*np.nonzero(x))))"
      ],
      "execution_count": null,
      "outputs": [
        {
          "output_type": "stream",
          "name": "stdout",
          "text": [
            "[[2. 2. 2.]\n",
            " [0. 0. 0.]]\n",
            "(array([0, 0, 0]), array([0, 1, 2]))\n",
            "[(0, 0), (0, 1), (0, 2)]\n"
          ]
        }
      ]
    },
    {
      "cell_type": "code",
      "metadata": {
        "id": "_afWbQFYPi9K",
        "colab": {
          "base_uri": "https://localhost:8080/",
          "height": 1000
        },
        "outputId": "9de87773-09ef-4673-8989-89fa8239a7d4"
      },
      "source": [
        "if __name__ == \"__main__\":\n",
        "\n",
        "    domain = RoombaDomain()\n",
        "    state = domain.initial_state()\n",
        "\n",
        "    def is_goal(state):\n",
        "        grid, r, c, p = domain.unpack(state)\n",
        "        result = (grid != DIRTY).all()\n",
        "        return result\n",
        "\n",
        "    def heuristic(state):\n",
        "        grid, r, c, p = domain.unpack(state)\n",
        "\n",
        "        dirty = list(zip(*np.nonzero(grid == DIRTY)))\n",
        "        if len(dirty) == 0: return 0\n",
        "\n",
        "        dists = [np.fabs(dr-r)+np.fabs(dc-c) for (dr, dc) in dirty]\n",
        "\n",
        "        # TODO: tighter under-estimate?\n",
        "\n",
        "        return min(dists)\n",
        "\n",
        "    from time import perf_counter\n",
        "\n",
        "    problem = SearchProblem(domain, domain.initial_state(), is_goal)\n",
        "\n",
        "    start = perf_counter()\n",
        "    plan = breadth_first_search(problem)\n",
        "    bfs_time = perf_counter() - start\n",
        "    print(\"bfs_time\", bfs_time)\n",
        "\n",
        "    # start = perf_counter()\n",
        "    # plan, _, _ = uniform_cost_search(problem)\n",
        "    # ucs_time = perf_counter() - start\n",
        "    # print(\"ucs_time\", ucs_time)\n",
        "\n",
        "    start = perf_counter()\n",
        "    plan = a_star_search(problem, heuristic)\n",
        "    astar_time = perf_counter() - start\n",
        "    print(\"astar_time\", astar_time)\n",
        "    print(plan)\n",
        "\n",
        "    state = problem.initial_state\n",
        "    pt.ion()\n",
        "    pt.figure()\n",
        "    domain.render(pt.gca(), state)\n",
        "    print(domain.valid_actions(state))\n",
        "    pt.pause(.1)\n",
        "    pt.show()\n",
        "    for action in plan:\n",
        "        print(action)\n",
        "        state = domain.perform_action(state, action)\n",
        "        pt.cla()\n",
        "        domain.render(pt.gca(), state)\n",
        "        pt.pause(.1)\n"
      ],
      "execution_count": null,
      "outputs": [
        {
          "output_type": "stream",
          "name": "stdout",
          "text": [
            "bfs_time 0.4995626899999479\n",
            "astar_time 1.778133992999983\n",
            "[(1, 0), (1, 0), (1, 0), (1, 0), (-1, 0), (0, 1), (-1, 0), (-1, 0), (-1, 0), (0, 1), (0, 1), (0, 1), (0, 1), (0, 1), (0, 1), (0, 1), (0, 1), (0, 1), (1, 0), (1, 0), (1, 0), (1, 0), (1, 0), (1, 0), (1, 0), (0, -1), (0, -1), (0, -1), (0, -1), (0, -1)]\n",
            "[((1, 0), 1), ((0, 1), 1)]\n"
          ]
        },
        {
          "output_type": "display_data",
          "data": {
            "image/png": "[encoded data removed]",
            "text/plain": [
              "<Figure size 432x288 with 1 Axes>"
            ]
          },
          "metadata": {}
        },
        {
          "output_type": "stream",
          "name": "stdout",
          "text": [
            "(1, 0)\n"
          ]
        },
        {
          "output_type": "display_data",
          "data": {
            "image/png": "[encoded data removed]",
            "text/plain": [
              "<Figure size 432x288 with 1 Axes>"
            ]
          },
          "metadata": {}
        },
        {
          "output_type": "stream",
          "name": "stdout",
          "text": [
            "(1, 0)\n"
          ]
        },
        {
          "output_type": "display_data",
          "data": {
            "image/png": "[encoded data removed]",
            "text/plain": [
              "<Figure size 432x288 with 1 Axes>"
            ]
          },
          "metadata": {}
        },
        {
          "output_type": "stream",
          "name": "stdout",
          "text": [
            "(1, 0)\n"
          ]
        },
        {
          "output_type": "display_data",
          "data": {
            "image/png": "[encoded data removed]",
            "text/plain": [
              "<Figure size 432x288 with 1 Axes>"
            ]
          },
          "metadata": {}
        },
        {
          "output_type": "stream",
          "name": "stdout",
          "text": [
            "(1, 0)\n"
          ]
        },
        {
          "output_type": "display_data",
          "data": {
            "image/png": "[encoded data removed]",
            "text/plain": [
              "<Figure size 432x288 with 1 Axes>"
            ]
          },
          "metadata": {}
        },
        {
          "output_type": "stream",
          "name": "stdout",
          "text": [
            "(-1, 0)\n"
          ]
        },
        {
          "output_type": "display_data",
          "data": {
            "image/png": "[encoded data removed]",
            "text/plain": [
              "<Figure size 432x288 with 1 Axes>"
            ]
          },
          "metadata": {}
        },
        {
          "output_type": "stream",
          "name": "stdout",
          "text": [
            "(0, 1)\n"
          ]
        },
        {
          "output_type": "display_data",
          "data": {
            "image/png": "[encoded data removed]",
            "text/plain": [
              "<Figure size 432x288 with 1 Axes>"
            ]
          },
          "metadata": {}
        },
        {
          "output_type": "stream",
          "name": "stdout",
          "text": [
            "(-1, 0)\n"
          ]
        },
        {
          "output_type": "display_data",
          "data": {
            "image/png": "[encoded data removed]",
            "text/plain": [
              "<Figure size 432x288 with 1 Axes>"
            ]
          },
          "metadata": {}
        },
        {
          "output_type": "stream",
          "name": "stdout",
          "text": [
            "(-1, 0)\n"
          ]
        },
        {
          "output_type": "display_data",
          "data": {
            "image/png": "[encoded data removed]",
            "text/plain": [
              "<Figure size 432x288 with 1 Axes>"
            ]
          },
          "metadata": {}
        },
        {
          "output_type": "stream",
          "name": "stdout",
          "text": [
            "(-1, 0)\n"
          ]
        },
        {
          "output_type": "display_data",
          "data": {
            "image/png": "[encoded data removed]",
            "text/plain": [
              "<Figure size 432x288 with 1 Axes>"
            ]
          },
          "metadata": {}
        },
        {
          "output_type": "stream",
          "name": "stdout",
          "text": [
            "(0, 1)\n"
          ]
        },
        {
          "output_type": "display_data",
          "data": {
            "image/png": "[encoded data removed]",
            "text/plain": [
              "<Figure size 432x288 with 1 Axes>"
            ]
          },
          "metadata": {}
        },
        {
          "output_type": "stream",
          "name": "stdout",
          "text": [
            "(0, 1)\n"
          ]
        },
        {
          "output_type": "display_data",
          "data": {
            "image/png": "[encoded data removed]",
            "text/plain": [
              "<Figure size 432x288 with 1 Axes>"
            ]
          },
          "metadata": {}
        },
        {
          "output_type": "stream",
          "name": "stdout",
          "text": [
            "(0, 1)\n"
          ]
        },
        {
          "output_type": "display_data",
          "data": {
            "image/png": "[encoded data removed]",
            "text/plain": [
              "<Figure size 432x288 with 1 Axes>"
            ]
          },
          "metadata": {}
        },
        {
          "output_type": "stream",
          "name": "stdout",
          "text": [
            "(0, 1)\n"
          ]
        },
        {
          "output_type": "display_data",
          "data": {
            "image/png": "[encoded data removed]",
            "text/plain": [
              "<Figure size 432x288 with 1 Axes>"
            ]
          },
          "metadata": {}
        },
        {
          "output_type": "stream",
          "name": "stdout",
          "text": [
            "(0, 1)\n"
          ]
        },
        {
          "output_type": "display_data",
          "data": {
            "image/png": "[encoded data removed]",
            "text/plain": [
              "<Figure size 432x288 with 1 Axes>"
            ]
          },
          "metadata": {}
        },
        {
          "output_type": "stream",
          "name": "stdout",
          "text": [
            "(0, 1)\n"
          ]
        },
        {
          "output_type": "display_data",
          "data": {
            "image/png": "[encoded data removed]",
            "text/plain": [
              "<Figure size 432x288 with 1 Axes>"
            ]
          },
          "metadata": {}
        },
        {
          "output_type": "stream",
          "name": "stdout",
          "text": [
            "(0, 1)\n"
          ]
        },
        {
          "output_type": "display_data",
          "data": {
            "image/png": "[encoded data removed]",
            "text/plain": [
              "<Figure size 432x288 with 1 Axes>"
            ]
          },
          "metadata": {}
        },
        {
          "output_type": "stream",
          "name": "stdout",
          "text": [
            "(0, 1)\n"
          ]
        },
        {
          "output_type": "display_data",
          "data": {
            "image/png": "[encoded data removed]",
            "text/plain": [
              "<Figure size 432x288 with 1 Axes>"
            ]
          },
          "metadata": {}
        },
        {
          "output_type": "stream",
          "name": "stdout",
          "text": [
            "(0, 1)\n"
          ]
        },
        {
          "output_type": "display_data",
          "data": {
            "image/png": "[encoded data removed]",
            "text/plain": [
              "<Figure size 432x288 with 1 Axes>"
            ]
          },
          "metadata": {}
        },
        {
          "output_type": "stream",
          "name": "stdout",
          "text": [
            "(1, 0)\n"
          ]
        },
        {
          "output_type": "display_data",
          "data": {
            "image/png": "[encoded data removed]",
            "text/plain": [
              "<Figure size 432x288 with 1 Axes>"
            ]
          },
          "metadata": {}
        },
        {
          "output_type": "stream",
          "name": "stdout",
          "text": [
            "(1, 0)\n"
          ]
        },
        {
          "output_type": "display_data",
          "data": {
            "image/png": "[encoded data removed]",
            "text/plain": [
              "<Figure size 432x288 with 1 Axes>"
            ]
          },
          "metadata": {}
        },
        {
          "output_type": "stream",
          "name": "stdout",
          "text": [
            "(1, 0)\n"
          ]
        },
        {
          "output_type": "display_data",
          "data": {
            "image/png": "[encoded data removed]",
            "text/plain": [
              "<Figure size 432x288 with 1 Axes>"
            ]
          },
          "metadata": {}
        },
        {
          "output_type": "stream",
          "name": "stdout",
          "text": [
            "(1, 0)\n"
          ]
        },
        {
          "output_type": "display_data",
          "data": {
            "image/png": "[encoded data removed]",
            "text/plain": [
              "<Figure size 432x288 with 1 Axes>"
            ]
          },
          "metadata": {}
        },
        {
          "output_type": "stream",
          "name": "stdout",
          "text": [
            "(1, 0)\n"
          ]
        },
        {
          "output_type": "display_data",
          "data": {
            "image/png": "[encoded data removed]",
            "text/plain": [
              "<Figure size 432x288 with 1 Axes>"
            ]
          },
          "metadata": {}
        },
        {
          "output_type": "stream",
          "name": "stdout",
          "text": [
            "(1, 0)\n"
          ]
        },
        {
          "output_type": "display_data",
          "data": {
            "image/png": "[encoded data removed]",
            "text/plain": [
              "<Figure size 432x288 with 1 Axes>"
            ]
          },
          "metadata": {}
        },
        {
          "output_type": "stream",
          "name": "stdout",
          "text": [
            "(1, 0)\n"
          ]
        },
        {
          "output_type": "display_data",
          "data": {
            "image/png": "[encoded data removed]",
            "text/plain": [
              "<Figure size 432x288 with 1 Axes>"
            ]
          },
          "metadata": {}
        },
        {
          "output_type": "stream",
          "name": "stdout",
          "text": [
            "(0, -1)\n"
          ]
        },
        {
          "output_type": "display_data",
          "data": {
            "image/png": "[encoded data removed]",
            "text/plain": [
              "<Figure size 432x288 with 1 Axes>"
            ]
          },
          "metadata": {}
        },
        {
          "output_type": "stream",
          "name": "stdout",
          "text": [
            "(0, -1)\n"
          ]
        },
        {
          "output_type": "display_data",
          "data": {
            "image/png": "[encoded data removed]",
            "text/plain": [
              "<Figure size 432x288 with 1 Axes>"
            ]
          },
          "metadata": {}
        },
        {
          "output_type": "stream",
          "name": "stdout",
          "text": [
            "(0, -1)\n"
          ]
        },
        {
          "output_type": "display_data",
          "data": {
            "image/png": "[encoded data removed]",
            "text/plain": [
              "<Figure size 432x288 with 1 Axes>"
            ]
          },
          "metadata": {}
        },
        {
          "output_type": "stream",
          "name": "stdout",
          "text": [
            "(0, -1)\n"
          ]
        },
        {
          "output_type": "display_data",
          "data": {
            "image/png": "[encoded data removed]",
            "text/plain": [
              "<Figure size 432x288 with 1 Axes>"
            ]
          },
          "metadata": {}
        },
        {
          "output_type": "stream",
          "name": "stdout",
          "text": [
            "(0, -1)\n"
          ]
        },
        {
          "output_type": "display_data",
          "data": {
            "image/png": "[encoded data removed]",
            "text/plain": [
              "<Figure size 432x288 with 1 Axes>"
            ]
          },
          "metadata": {}
        }
      ]
    },
    {
      "cell_type": "code",
      "metadata": {
        "id": "0Tp7S-WuSHxg"
      },
      "source": [
        "fig = pt.figure()\n",
        "state = problem.initial_state\n",
        "states = [state]\n",
        "for a in range(len(plan)):\n",
        "  states.append(domain.perform_action(states[-1], plan[a]))\n",
        "\n",
        "def drawframe(n):\n",
        "  domain.render(pt.gca(), states[n])\n",
        "\n",
        "from matplotlib import animation\n",
        "\n",
        "# blit=True re-draws only the parts that have changed.\n",
        "anim = animation.FuncAnimation(fig, drawframe, frames=len(plan), interval=5, blit=False)\n",
        "\n",
        "from IPython.display import HTML\n",
        "HTML(anim.to_html5_video())"
      ],
      "execution_count": null,
      "outputs": []
    }
  ]
}