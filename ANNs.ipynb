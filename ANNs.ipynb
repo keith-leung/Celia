{
  "nbformat": 4,
  "nbformat_minor": 0,
  "metadata": {
    "colab": {
      "name": "ANNs.ipynb",
      "provenance": [],
      "collapsed_sections": [],
      "include_colab_link": true
    },
    "kernelspec": {
      "name": "python3",
      "display_name": "Python 3"
    },
    "language_info": {
      "name": "python"
    }
  },
  "cells": [
    {
      "cell_type": "markdown",
      "metadata": {
        "id": "view-in-github",
        "colab_type": "text"
      },
      "source": [
        "<a href=\"https://colab.research.google.com/github/keith-leung/Celia/blob/master/ANNs.ipynb\" target=\"_parent\"><img src=\"https://colab.research.google.com/assets/colab-badge.svg\" alt=\"Open In Colab\"/></a>"
      ]
    },
    {
      "cell_type": "code",
      "metadata": {
        "id": "82g4t7MywYja"
      },
      "source": [
        "import torch as tr\n",
        "import itertools as it\n",
        "import matplotlib.pyplot as pt\n",
        "import numpy as np"
      ],
      "execution_count": null,
      "outputs": []
    },
    {
      "cell_type": "code",
      "metadata": {
        "colab": {
          "base_uri": "https://localhost:8080/"
        },
        "id": "jxow4-kexIJk",
        "outputId": "266ba0c0-c2fe-4c5e-c3eb-4f6c4fc076e7"
      },
      "source": [
        "# make all possible 0|1 input patterns\n",
        "inputs = tr.tensor(list(it.product([0, 1], repeat=2))).float()\n",
        "print(inputs)"
      ],
      "execution_count": null,
      "outputs": [
        {
          "output_type": "stream",
          "name": "stdout",
          "text": [
            "tensor([[0., 0.],\n",
            "        [0., 1.],\n",
            "        [1., 0.],\n",
            "        [1., 1.]])\n"
          ]
        }
      ]
    },
    {
      "cell_type": "code",
      "metadata": {
        "colab": {
          "base_uri": "https://localhost:8080/"
        },
        "id": "aBlx00blxi2l",
        "outputId": "f9c92e60-c9f2-4f22-9fef-e6a0d402c57e"
      },
      "source": [
        "# make target labels\n",
        "f = tr.all # logical and\n",
        "# f = tr.any # logical or\n",
        "\n",
        "targets = f(inputs, dim=1).float()\n",
        "print(targets)"
      ],
      "execution_count": null,
      "outputs": [
        {
          "output_type": "stream",
          "name": "stdout",
          "text": [
            "tensor([0., 0., 0., 1.])\n"
          ]
        }
      ]
    },
    {
      "cell_type": "code",
      "metadata": {
        "colab": {
          "base_uri": "https://localhost:8080/"
        },
        "id": "ObCaIRXbx35M",
        "outputId": "ddde8cd7-8e98-4e39-eeb0-eef256ed3cae"
      },
      "source": [
        "# initialize network parameters\n",
        "w = tr.randn(2, requires_grad=True)\n",
        "b = tr.randn(1, requires_grad=True)\n",
        "print(w)\n",
        "print(b)"
      ],
      "execution_count": null,
      "outputs": [
        {
          "output_type": "stream",
          "name": "stdout",
          "text": [
            "tensor([-1.7957, -1.5212], requires_grad=True)\n",
            "tensor([1.1489], requires_grad=True)\n"
          ]
        }
      ]
    },
    {
      "cell_type": "code",
      "metadata": {
        "colab": {
          "base_uri": "https://localhost:8080/"
        },
        "id": "Dh8lHMqIyCjf",
        "outputId": "588dc48d-9be1-4a57-c2a0-69759464bfe2"
      },
      "source": [
        "# define NN forward pass and loss function\n",
        "\n",
        "# differentiable approximation of heaviside function\n",
        "def sigmoid(a):\n",
        "  return (tr.exp(-a) + 1)**(-1)\n",
        "\n",
        "def net(x):\n",
        "  return sigmoid((w*x).sum() + b)\n",
        "\n",
        "def loss(x, target):\n",
        "  y = net(x)\n",
        "  return tr.sum((y - target)**2)\n",
        "\n",
        "print(loss(inputs[0], targets[0]))"
      ],
      "execution_count": null,
      "outputs": [
        {
          "output_type": "stream",
          "name": "stdout",
          "text": [
            "tensor(5.8500e-07, grad_fn=<SumBackward0>)\n"
          ]
        }
      ]
    },
    {
      "cell_type": "code",
      "metadata": {
        "colab": {
          "base_uri": "https://localhost:8080/"
        },
        "id": "w2wq3gAyy74-",
        "outputId": "64ba7c8d-ebb7-4396-d9ed-6c5968e6a805"
      },
      "source": [
        "# gradient descent loop\n",
        "\n",
        "η = 0.1 # learning rate eta\n",
        "\n",
        "# Repeatedly take steps in the gradient direction\n",
        "for step in range(1000):\n",
        "\n",
        "  # Accumulate loss and its gradient over all examples\n",
        "  batch_loss = 0\n",
        "  for n in range(len(inputs)):\n",
        "    example_loss = loss(inputs[n], targets[n])\n",
        "    batch_loss += example_loss\n",
        "    example_loss.backward()\n",
        "    \n",
        "  # Take gradient descent step\n",
        "  w.data -= η * w.grad\n",
        "  b.data -= η * b.grad\n",
        "\n",
        "  # zero out gradients for torch before next step\n",
        "  w.grad *= 0\n",
        "  b.grad *= 0\n",
        "\n",
        "  # print progress updates\n",
        "  if step % 100 == 0:\n",
        "    print(\"%d: %f\" % (step, batch_loss))\n",
        "    print(example_loss)"
      ],
      "execution_count": null,
      "outputs": [
        {
          "output_type": "stream",
          "name": "stdout",
          "text": [
            "0: 0.021364\n",
            "tensor(0.0089, grad_fn=<SumBackward0>)\n",
            "100: 0.020500\n",
            "tensor(0.0085, grad_fn=<SumBackward0>)\n",
            "200: 0.019701\n",
            "tensor(0.0082, grad_fn=<SumBackward0>)\n",
            "300: 0.018958\n",
            "tensor(0.0079, grad_fn=<SumBackward0>)\n",
            "400: 0.018268\n",
            "tensor(0.0076, grad_fn=<SumBackward0>)\n",
            "500: 0.017624\n",
            "tensor(0.0073, grad_fn=<SumBackward0>)\n",
            "600: 0.017022\n",
            "tensor(0.0071, grad_fn=<SumBackward0>)\n",
            "700: 0.016459\n",
            "tensor(0.0068, grad_fn=<SumBackward0>)\n",
            "800: 0.015930\n",
            "tensor(0.0066, grad_fn=<SumBackward0>)\n",
            "900: 0.015433\n",
            "tensor(0.0064, grad_fn=<SumBackward0>)\n"
          ]
        }
      ]
    },
    {
      "cell_type": "code",
      "metadata": {
        "colab": {
          "base_uri": "https://localhost:8080/"
        },
        "id": "49c5bNM3Ztkv",
        "outputId": "8c8c8932-3e1b-4a22-9009-4e6af9497fab"
      },
      "source": [
        "# check that the output looks good\n",
        "print(\"input, output, target:\")\n",
        "for n in range(len(inputs)):\n",
        "  y = net(inputs[n])\n",
        "  print(inputs[n], y, targets[n])"
      ],
      "execution_count": null,
      "outputs": [
        {
          "output_type": "stream",
          "name": "stdout",
          "text": [
            "input, output, target:\n",
            "tensor([0., 0.]) tensor([0.0004], grad_fn=<PowBackward0>) tensor(0.)\n",
            "tensor([0., 1.]) tensor([0.0661], grad_fn=<PowBackward0>) tensor(0.)\n",
            "tensor([1., 0.]) tensor([0.0661], grad_fn=<PowBackward0>) tensor(0.)\n",
            "tensor([1., 1.]) tensor([0.9212], grad_fn=<PowBackward0>) tensor(1.)\n"
          ]
        }
      ]
    },
    {
      "cell_type": "code",
      "metadata": {
        "colab": {
          "base_uri": "https://localhost:8080/"
        },
        "id": "lsS_Z9zUvESh",
        "outputId": "4ad1383f-2445-47df-a064-e214c5f8766a"
      },
      "source": [
        "# check if the weights/bias make sense\n",
        "print(\"w:\")\n",
        "print(w)\n",
        "print(\"b:\")\n",
        "print(b)"
      ],
      "execution_count": null,
      "outputs": [
        {
          "output_type": "stream",
          "name": "stdout",
          "text": [
            "w:\n",
            "tensor([5.1058, 5.1058], requires_grad=True)\n",
            "b:\n",
            "tensor([-7.7533], requires_grad=True)\n"
          ]
        }
      ]
    },
    {
      "cell_type": "code",
      "metadata": {
        "colab": {
          "base_uri": "https://localhost:8080/"
        },
        "id": "QMHurgGQfpzi",
        "outputId": "fad04d27-3ea3-4006-a470-d499ea679d3a"
      },
      "source": [
        "# Define a class to represent a linear layer with weights and bias\n",
        "# This is just to illustrate the idea, in practice you want to use tr.nn.Linear\n",
        "class Linear:\n",
        "  def __init__(self, in_features, out_features):\n",
        "    self.weight = tr.randn(in_features, out_features, requires_grad=True)\n",
        "    self.bias = tr.randn(1, out_features, requires_grad=True)\n",
        "  def parameters(self):\n",
        "    return [self.weight, self.bias]\n",
        "  def __call__(self, x):\n",
        "    return tr.mm(x, self.weight) + self.bias\n",
        "\n",
        "# Modules can be treated like an object with attributes\n",
        "lin = Linear(2, 1)\n",
        "print(lin.parameters())\n",
        "\n",
        "# Or like a function that can be called on inputs\n",
        "y = lin(inputs)\n",
        "print(y)"
      ],
      "execution_count": null,
      "outputs": [
        {
          "output_type": "stream",
          "name": "stdout",
          "text": [
            "[tensor([[ 0.1667],\n",
            "        [-0.9059]], requires_grad=True), tensor([[-0.8351]], requires_grad=True)]\n",
            "tensor([[-0.8351],\n",
            "        [-1.7410],\n",
            "        [-0.6684],\n",
            "        [-1.5743]], grad_fn=<AddBackward0>)\n"
          ]
        }
      ]
    },
    {
      "cell_type": "code",
      "metadata": {
        "colab": {
          "base_uri": "https://localhost:8080/"
        },
        "id": "kowdrjVVvkQT",
        "outputId": "cd209185-ff3c-4364-b420-5c355bc3f127"
      },
      "source": [
        "# The tr.nn.Module superclass uses __call__ to wrap a 'forward' function\n",
        "# Also works better for composing with other layers, e.g. with Sequential below\n",
        "class Linear(tr.nn.Module):\n",
        "  def __init__(self, in_features, out_features):\n",
        "    super(Linear, self).__init__()\n",
        "    self.weight = tr.randn(in_features, out_features, requires_grad=True)\n",
        "    self.bias = tr.randn(1, out_features, requires_grad=True)\n",
        "  def parameters(self):\n",
        "    return [self.weight, self.bias]\n",
        "  def forward(self, x):\n",
        "    return tr.mm(x, self.weight) + self.bias\n",
        "\n",
        "# Modules can be treated like an object with attributes\n",
        "lin = Linear(2, 1)\n",
        "print(lin.parameters())\n",
        "\n",
        "# Or like a function that can be called on inputs\n",
        "y = lin(inputs)\n",
        "print(y)"
      ],
      "execution_count": null,
      "outputs": [
        {
          "output_type": "stream",
          "name": "stdout",
          "text": [
            "[tensor([[-0.6745],\n",
            "        [-0.1922]], requires_grad=True), tensor([[1.5134]], requires_grad=True)]\n",
            "tensor([[1.5134],\n",
            "        [1.3212],\n",
            "        [0.8389],\n",
            "        [0.6467]], grad_fn=<AddBackward0>)\n"
          ]
        }
      ]
    },
    {
      "cell_type": "code",
      "metadata": {
        "colab": {
          "base_uri": "https://localhost:8080/"
        },
        "id": "FtKoaGyXby-4",
        "outputId": "790d8516-92ce-4264-e85b-19834b43e782"
      },
      "source": [
        "# TODO: different combos of lin/sgd lines\n",
        "\n",
        "# Define the network\n",
        "#lin = Linear(in_features=2, out_features=1)\n",
        "lin = tr.nn.Linear(in_features=2, out_features=1, bias=True)\n",
        "sig = tr.nn.Sigmoid()\n",
        "net = tr.nn.Sequential(lin, sig)\n",
        "\n",
        "# MSE loss (sum instead of defaulting to mean)\n",
        "loss = tr.nn.MSELoss(reduction='sum')\n",
        "\n",
        "# Stochastic gradient descent optimizer\n",
        "#sgd = tr.optim.SGD(lin.parameters(), lr=η)\n",
        "sgd = tr.optim.SGD(net.parameters(), lr=η)\n",
        "\n",
        "# Track the change in loss during training\n",
        "learning_curve = []\n",
        "\n",
        "# Repeatedly take steps in the gradient direction\n",
        "for step in range(1000):\n",
        "\n",
        "  # Accumulate loss and its gradient over all examples\n",
        "  outputs = net(inputs)\n",
        "  batch_loss = loss(outputs, targets.reshape(4,1))\n",
        "  batch_loss.backward()\n",
        "\n",
        "  # Save loss history\n",
        "  learning_curve.append(batch_loss.item())\n",
        "\n",
        "  # Take gradient descent step\n",
        "  sgd.step()\n",
        "\n",
        "  # zero out gradients for torch before next step\n",
        "  sgd.zero_grad()\n",
        "\n",
        "  # print progress updates\n",
        "  if step % 100 == 0: print(\"%d: %f\" % (step, batch_loss))"
      ],
      "execution_count": null,
      "outputs": [
        {
          "output_type": "stream",
          "name": "stdout",
          "text": [
            "0: 1.017249\n",
            "100: 0.471813\n",
            "200: 0.297672\n",
            "300: 0.215502\n",
            "400: 0.166668\n",
            "500: 0.134455\n",
            "600: 0.111818\n",
            "700: 0.095174\n",
            "800: 0.082503\n",
            "900: 0.072585\n"
          ]
        }
      ]
    },
    {
      "cell_type": "code",
      "metadata": {
        "colab": {
          "base_uri": "https://localhost:8080/",
          "height": 366
        },
        "id": "v-_goGNadhWb",
        "outputId": "0c513287-ebb7-450e-f913-49b587f6b34f"
      },
      "source": [
        "# print the learned weights and bias\n",
        "print(\"weights, bias:\")\n",
        "print(lin.weight)\n",
        "print(lin.bias)\n",
        "\n",
        "# visualize learning curve\n",
        "pt.plot(learning_curve)\n",
        "pt.xlabel(\"Gradient descent steps\")\n",
        "pt.ylabel(\"Batch Loss\")\n",
        "pt.show()"
      ],
      "execution_count": null,
      "outputs": [
        {
          "output_type": "stream",
          "name": "stdout",
          "text": [
            "weights, bias:\n",
            "Parameter containing:\n",
            "tensor([[3.4646, 3.4646]], requires_grad=True)\n",
            "Parameter containing:\n",
            "tensor([-5.3062], requires_grad=True)\n"
          ]
        },
        {
          "output_type": "display_data",
          "data": {
            "image/png": "[encoded data removed]",
            "text/plain": [
              "<Figure size 432x288 with 1 Axes>"
            ]
          },
          "metadata": {
            "needs_background": "light"
          }
        }
      ]
    },
    {
      "cell_type": "code",
      "metadata": {
        "colab": {
          "base_uri": "https://localhost:8080/"
        },
        "id": "JDeWh2qOhs8q",
        "outputId": "3d14da5c-795f-47c2-f03d-1c4de1d72f58"
      },
      "source": [
        "# Project-related example:\n",
        "# Predicting the player's win probability with a given hand of cards\n",
        "\n",
        "# One possible way to represent the game state as a tensor:\n",
        "# state[suit,number-1] = 1 if the card is in the player's hand else 0\n",
        "\n",
        "HEARTS, CLUBS, SPADES, DIAMONDS = 0, 1, 2, 3\n",
        "\n",
        "def state_tensor(cards):\n",
        "  # cards == [..., (suit, number), ...]\n",
        "  state = tr.zeros((4, 52))\n",
        "  for (suit, number) in cards:\n",
        "    state[suit, number-1] = 1.\n",
        "  state = state.reshape(4*52) # unwrap into a long vector\n",
        "  return state\n",
        "\n",
        "print(state_tensor([(HEARTS, 1), (HEARTS, 2), (CLUBS, 1)]))"
      ],
      "execution_count": null,
      "outputs": [
        {
          "output_type": "stream",
          "name": "stdout",
          "text": [
            "tensor([1., 1., 0., 0., 0., 0., 0., 0., 0., 0., 0., 0., 0., 0., 0., 0., 0., 0.,\n",
            "        0., 0., 0., 0., 0., 0., 0., 0., 0., 0., 0., 0., 0., 0., 0., 0., 0., 0.,\n",
            "        0., 0., 0., 0., 0., 0., 0., 0., 0., 0., 0., 0., 0., 0., 0., 0., 1., 0.,\n",
            "        0., 0., 0., 0., 0., 0., 0., 0., 0., 0., 0., 0., 0., 0., 0., 0., 0., 0.,\n",
            "        0., 0., 0., 0., 0., 0., 0., 0., 0., 0., 0., 0., 0., 0., 0., 0., 0., 0.,\n",
            "        0., 0., 0., 0., 0., 0., 0., 0., 0., 0., 0., 0., 0., 0., 0., 0., 0., 0.,\n",
            "        0., 0., 0., 0., 0., 0., 0., 0., 0., 0., 0., 0., 0., 0., 0., 0., 0., 0.,\n",
            "        0., 0., 0., 0., 0., 0., 0., 0., 0., 0., 0., 0., 0., 0., 0., 0., 0., 0.,\n",
            "        0., 0., 0., 0., 0., 0., 0., 0., 0., 0., 0., 0., 0., 0., 0., 0., 0., 0.,\n",
            "        0., 0., 0., 0., 0., 0., 0., 0., 0., 0., 0., 0., 0., 0., 0., 0., 0., 0.,\n",
            "        0., 0., 0., 0., 0., 0., 0., 0., 0., 0., 0., 0., 0., 0., 0., 0., 0., 0.,\n",
            "        0., 0., 0., 0., 0., 0., 0., 0., 0., 0.])\n"
          ]
        }
      ]
    },
    {
      "cell_type": "code",
      "metadata": {
        "colab": {
          "base_uri": "https://localhost:8080/"
        },
        "id": "lZX_sbGbi6Rs",
        "outputId": "0a5af6de-9cf3-446b-805a-6cc03feb23f9"
      },
      "source": [
        "# Dataset collected from multiple game-plays with tree-based AI\n",
        "# data = [... (hand, final score), ...]\n",
        "data = [\n",
        "  ([(HEARTS, 10), (CLUBS, 10)], 0.),\n",
        "  ([(HEARTS, 10), (CLUBS, 5)], 1.),\n",
        "  ([(HEARTS, 10), (CLUBS, 8)], 1.),\n",
        "]\n",
        "\n",
        "inputs = tr.stack([state_tensor(hand) for (hand,_) in data])\n",
        "targets = tr.tensor([score for (_, score) in data]).reshape(-1, 1)\n",
        "\n",
        "print(inputs.shape)\n",
        "print(targets.shape)"
      ],
      "execution_count": null,
      "outputs": [
        {
          "output_type": "stream",
          "name": "stdout",
          "text": [
            "torch.Size([3, 208])\n",
            "torch.Size([3, 1])\n"
          ]
        }
      ]
    },
    {
      "cell_type": "code",
      "metadata": {
        "colab": {
          "base_uri": "https://localhost:8080/"
        },
        "id": "yZPJc8hLj2Uy",
        "outputId": "b3922b21-0ec3-4063-dde1-453bcd4e77b9"
      },
      "source": [
        "# TODO: tweak for more reliable convergence?\n",
        "\n",
        "# two-layer network configuration\n",
        "cardnet = tr.nn.Sequential(\n",
        "    tr.nn.Linear(208, 3),\n",
        "    tr.nn.Sigmoid(),\n",
        "    tr.nn.Linear(3, 1)\n",
        ")\n",
        "\n",
        "# Stochastic gradient descent optimizer\n",
        "sgd = tr.optim.SGD(cardnet.parameters(), lr=η)\n",
        "\n",
        "# Track the change in loss during training\n",
        "learning_curve = []\n",
        "\n",
        "# Repeatedly take steps in the gradient direction\n",
        "for step in range(1000):\n",
        "\n",
        "  # Accumulate loss and its gradient over all examples\n",
        "  outputs = cardnet(inputs)\n",
        "  batch_loss = loss(outputs, targets)\n",
        "\n",
        "  if batch_loss < 0.0001: break\n",
        "\n",
        "  batch_loss.backward()\n",
        "\n",
        "  # Save loss history\n",
        "  learning_curve.append(batch_loss.item())\n",
        "\n",
        "  # Take gradient descent step\n",
        "  sgd.step()\n",
        "\n",
        "  # zero out gradients for torch before next step\n",
        "  sgd.zero_grad()\n",
        "\n",
        "  # print progress updates\n",
        "  if step % 100 == 0: print(\"%d: %f\" % (step, batch_loss))\n"
      ],
      "execution_count": null,
      "outputs": [
        {
          "output_type": "stream",
          "name": "stdout",
          "text": [
            "0: 3.673153\n",
            "100: 0.000432\n"
          ]
        }
      ]
    },
    {
      "cell_type": "code",
      "metadata": {
        "colab": {
          "base_uri": "https://localhost:8080/",
          "height": 279
        },
        "id": "uzW3v56-niP1",
        "outputId": "9e6dd206-e919-4d5c-a2f2-540d9e31ec4c"
      },
      "source": [
        "# visualize learning curve\n",
        "pt.plot((learning_curve))\n",
        "pt.xlabel(\"Gradient descent steps\")\n",
        "pt.ylabel(\"Batch Loss\")\n",
        "pt.show()"
      ],
      "execution_count": null,
      "outputs": [
        {
          "output_type": "display_data",
          "data": {
            "image/png": "[encoded data removed]",
            "text/plain": [
              "<Figure size 432x288 with 1 Axes>"
            ]
          },
          "metadata": {
            "needs_background": "light"
          }
        }
      ]
    }
  ]
}